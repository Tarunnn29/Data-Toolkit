{
  "nbformat": 4,
  "nbformat_minor": 0,
  "metadata": {
    "colab": {
      "provenance": []
    },
    "kernelspec": {
      "name": "python3",
      "display_name": "Python 3"
    },
    "language_info": {
      "name": "python"
    }
  },
  "cells": [
    {
      "cell_type": "markdown",
      "source": [
        "***Data Toolkit***"
      ],
      "metadata": {
        "id": "uAiTtEbBvkNN"
      }
    },
    {
      "cell_type": "markdown",
      "source": [
        "**Question 1:** 1. What is NumPy, and why is it widely used in Python?\n",
        "\n",
        "**Answer:**\n",
        "\n",
        "**NumPy (Numerical Python)** is a core library for scientific computing in Python. It offers a powerful n-dimensional array (ndarray) data structure, along with fast mathematical routines (linear algebra, FFTs, statistics) that operate directly on these arrays.\n",
        "\n",
        "**Why it's popular:** it's fast (written in C), memory-efficient, and foundational for libraries like pandas, SciPy, and TensorFlow ."
      ],
      "metadata": {
        "id": "lNTS3MXQvo41"
      }
    },
    {
      "cell_type": "markdown",
      "source": [
        "**Question 2:** How does broadcasting work in NumPy?\n",
        "\n",
        "**Answer:**  Broadcasting lets NumPy align and perform operations on arrays of different shapes without explicit loops. The smaller array is “broadcast” to match the larger array’s shape under certain rules, enabling C‑level performance and avoiding memory bloat."
      ],
      "metadata": {
        "id": "eHI-bIFQw_f-"
      }
    },
    {
      "cell_type": "markdown",
      "source": [
        "**Question 3:**  What is a Pandas DataFrame?\n",
        "\n",
        "**Answer:**  A DataFrame is a 2-dimensional labeled data structure, like a table or spreadsheet, supporting heterogeneous data types across columns. It’s the primary data container in pandas, allowing operations like filtering, grouping, merging, and aggregation."
      ],
      "metadata": {
        "id": "tqYws7cgxIV8"
      }
    },
    {
      "cell_type": "markdown",
      "source": [
        "**Question 4:** Explain the use of the groupby() method in Pandas.\n",
        "\n",
        "**Answer:** groupby() implements a “split–apply–combine” pattern: it splits a DataFrame into groups based on column(s), applies functions (such as sum, mean, filter), and then recombines results. It’s essential for aggregation or transformation per group."
      ],
      "metadata": {
        "id": "34xL2-SixTb6"
      }
    },
    {
      "cell_type": "markdown",
      "source": [
        "**Question 5:** Why is Seaborn preferred for statistical visualizations?\n",
        "\n",
        "**Answer:** Seaborn is built on top of Matplotlib, offering a high‑level API designed for statistical plots (e.g., distributions, categorical plots). Its default styles and color palettes are visually appealing, and it integrates neatly with pandas DataFrames.\n"
      ],
      "metadata": {
        "id": "fUZAQZb6xcYd"
      }
    },
    {
      "cell_type": "markdown",
      "source": [
        "**Question 6:** What are the differences between NumPy arrays and Python lists?\n",
        "\n",
        "**Answer:**\n",
        "\n",
        "**Homogeneity:** NumPy arrays hold items of a single data type; lists can contain mixed types.\n",
        "\n",
        "**Performance & memory:** NumPy arrays are contiguous in memory—more compact and faster than lists .\n",
        "\n",
        "**Vectorized operations:** Arrays allow elementwise math directly, whereas lists need loops.\n",
        "\n"
      ],
      "metadata": {
        "id": "F-biXLGDxqSs"
      }
    },
    {
      "cell_type": "markdown",
      "source": [
        "**Question 7:**  What is a heatmap, and when should it be used?\n",
        "\n",
        "**Answer:**  A heatmap is a 2D visualization where cell values are represented by colors. Use it to quickly identify trends, patterns, or variations within matrix-like data—for example, correlation matrices, user behavior, or spatial data distributions."
      ],
      "metadata": {
        "id": "7ARd_SVqx_lw"
      }
    },
    {
      "cell_type": "markdown",
      "source": [
        "**Question 8:** What does “vectorized operation” mean in NumPy?\n",
        "\n",
        "**Answer:**  Vectorization refers to performing operations over entire arrays using optimized low-level (C) code, instead of Python loops. This leads to significantly faster computations."
      ],
      "metadata": {
        "id": "HOJmP6ZcyIxw"
      }
    },
    {
      "cell_type": "markdown",
      "source": [
        "**Question 9:** How does Matplotlib differ from Plotly?\n",
        "\n",
        "**Answer:**\n",
        "\n",
        " **Matplotlib** is a classic 2D plotting library, ideal for static graphs with full customization.\n",
        "\n",
        "**Plotly** excels at interactive, web-ready visualizations—offering zoom, hover info, and dynamic visuals, without requiring much code."
      ],
      "metadata": {
        "id": "KCEOMzUXyV7m"
      }
    },
    {
      "cell_type": "markdown",
      "source": [
        "**Question 10:** A What is the significance of hierarchical indexing in Pandas?\n",
        "\n",
        "**Answer:** Hierarchical (multi‑level) indexing allows multiple index levels per axis. This makes it easier to perform complex data operations, such as grouping, pivoting, and slicing across multiple dimensions efficiently.\n",
        "\n"
      ],
      "metadata": {
        "id": "WjgTwcG0ylDU"
      }
    },
    {
      "cell_type": "markdown",
      "source": [
        "**Question 11:** What is the role of Seaborn’s pairplot() function?\n",
        "\n",
        "**Answer:**\n",
        "\n",
        "**pairplot( )** creates a matrix of scatterplots (and distributions on diagonals) for each pair of numeric variables. It’s invaluable for quickly exploring pairwise relationships and variable distributions."
      ],
      "metadata": {
        "id": "4VKsOQnpyvQl"
      }
    },
    {
      "cell_type": "markdown",
      "source": [
        "**Question 12:** What is the purpose of the describe() function in Pandas?\n",
        "\n",
        "**Answer:**\n",
        "\n",
        " **describe( )** generates summary statistics for numeric columns (like count, mean, std, min, quartiles, max). It gives a fast overview of data distributions and potential anomalies.\n",
        "\n"
      ],
      "metadata": {
        "id": "WRfqGVsry_95"
      }
    },
    {
      "cell_type": "markdown",
      "source": [
        "**Question 13:** Why is handling missing data important in Pandas?\n",
        "\n",
        "**Answer:**  Missing data can distort analyses or break model pipelines. Pandas provides tools like dropna() and fillna() to clean or impute missing values, ensuring robust statistical output and machine learning inputs.\n",
        "\n"
      ],
      "metadata": {
        "id": "HM-KlO2wzSAH"
      }
    },
    {
      "cell_type": "markdown",
      "source": [
        "**Question 14:** What are the benefits of using Plotly for data visualization?\n",
        "\n",
        "**Answer:** Plotly offers interactive, high-quality, browser-friendly visuals (zooming, hovering), easy web integration, rich chart types (3D, maps), and compatibility with Python, R, and JS—all with minimal setup.\n",
        "\n"
      ],
      "metadata": {
        "id": "il5lepDRzf-m"
      }
    },
    {
      "cell_type": "markdown",
      "source": [
        "**Question 15:** How does NumPy handle multidimensional arrays?\n",
        "\n",
        "**Answer:** NumPy’s ndarray supports up to N dimensions, stored contiguously. You can reshape (e.g. reshape, transpose), slice, and index them, and apply universal functions across any axis efficiently ."
      ],
      "metadata": {
        "id": "m-S5Lrd2zuRw"
      }
    },
    {
      "cell_type": "markdown",
      "source": [
        "**Question 16:** What is the role of Bokeh in data visualization?\n",
        "\n",
        "**Answer:**   Bokeh is a Python library for crafting interactive, web-based plots (e.g. dashboards) with interactivity like pan/zoom, tooltips, and streaming. It bridges static visuals and fully interactive web apps."
      ],
      "metadata": {
        "id": "1A0QSmZEz5yP"
      }
    },
    {
      "cell_type": "markdown",
      "source": [
        "**Question 17:** Explain the difference between apply() and map() in Pandas?\n",
        "\n",
        "**Answer:**\n",
        "\n",
        "**map()** transforms each element in a Series using a function or dict mapping.\n",
        "\n",
        "**apply(**) works on entire Series or DataFrame rows/columns, enabling more complex aggregations or transformations.\n",
        "\n"
      ],
      "metadata": {
        "id": "TSYV539n0CNd"
      }
    },
    {
      "cell_type": "markdown",
      "source": [
        "**Question 18:**  What are some advanced features of NumPy?\n",
        "\n",
        "**Answer:**\n",
        "\n",
        "1. **Masked arrays** for handling invalid data\n",
        "\n",
        "2. Broadcasting and universal functions\n",
        "\n",
        "3. Structured arrays for mixed data types\n",
        "\n",
        "4. FFT and linear algebra routines, including eigen decomposition, convolutions, and regressions"
      ],
      "metadata": {
        "id": "x7B_bknv0Ksr"
      }
    },
    {
      "cell_type": "markdown",
      "source": [
        "**Question 19:** How does Pandas simplify time series analysis?\n",
        "\n",
        "**Answer:** Pandas provides native time-series support: DatetimeIndex, resampling (e.g. daily to monthly), shifting, rolling windows, and time-zone awareness—turning messy dates into analyzable data."
      ],
      "metadata": {
        "id": "CqeHjG5b0Tln"
      }
    },
    {
      "cell_type": "markdown",
      "source": [
        "**Question 20:** What is the role of a pivot table in Pandas?\n",
        "\n",
        "**Answer:**  A pivot table restructures data to show summaries (like sums, averages) across two dimensions (rows & columns), similar to Excel—making multi-dimensional aggregation easy."
      ],
      "metadata": {
        "id": "NCixbI-K0Yth"
      }
    },
    {
      "cell_type": "markdown",
      "source": [
        "**Question 21:** Why is NumPy’s array slicing faster than Python’s list slicing?\n",
        "\n",
        "**Answer:**  NumPy slicing returns a view, not a copy, avoiding data duplication. It also enables contiguous memory access and leverages C-level loops. Python list slicing always copies and uses slower Python loops."
      ],
      "metadata": {
        "id": "Qp8FkfTX0h3v"
      }
    },
    {
      "cell_type": "markdown",
      "source": [
        "**Question 22:** What are some common use cases for Seaborn?\n",
        "\n",
        "**Answer:**\n",
        "\n",
        "**Visualizing distributions:** histplot, kdeplot, boxplot, violinplot\n",
        "\n",
        "**Exploring relationships:** pairplot, jointplot, lmplot\n",
        "\n",
        "**Building categorical plots:** barplot, countplot, stripplot, catplot\n",
        "\n",
        "Designing heatmaps, including correlation matrices"
      ],
      "metadata": {
        "id": "mL_Zmfv80q5U"
      }
    },
    {
      "cell_type": "markdown",
      "source": [
        "***PRACTICAL QUESTIONS***"
      ],
      "metadata": {
        "id": "vturb4wf1j8W"
      }
    },
    {
      "cell_type": "code",
      "execution_count": 24,
      "metadata": {
        "id": "VUDqeLNTvfh5"
      },
      "outputs": [],
      "source": [
        "import numpy as np\n",
        "import pandas as pd\n",
        "import seaborn as sns\n",
        "import matplotlib.pyplot as plt\n",
        "import plotly.graph_objects as go\n",
        "import plotly.express as px\n",
        "\n",
        "import warnings\n",
        "warnings.filterwarnings('ignore')"
      ]
    },
    {
      "cell_type": "markdown",
      "source": [
        "**Question 1:** How do you create a 2D NumPy array and calculate the sum of each row?"
      ],
      "metadata": {
        "id": "AsOsCQZ11153"
      }
    },
    {
      "cell_type": "code",
      "source": [
        "A = np.array([[10, 15, 20],\n",
        "         [25, 35, 45]])\n",
        "\n",
        "for i in range(2):\n",
        "  sum = A[i].sum()\n",
        "\n",
        "  print(f\"The sum of row {i+1} is {sum}\")\n"
      ],
      "metadata": {
        "colab": {
          "base_uri": "https://localhost:8080/"
        },
        "id": "Eu82g3Cf10-X",
        "outputId": "74737375-b6d4-4bca-8063-58dba4cb8ebd"
      },
      "execution_count": 25,
      "outputs": [
        {
          "output_type": "stream",
          "name": "stdout",
          "text": [
            "The sum of row 1 is 45\n",
            "The sum of row 2 is 105\n"
          ]
        }
      ]
    },
    {
      "cell_type": "markdown",
      "source": [
        "**Question 2:**   Write a Pandas script to find the mean of a specific column in a DataFrame.\n"
      ],
      "metadata": {
        "id": "dxVpPCFj3C-t"
      }
    },
    {
      "cell_type": "code",
      "source": [
        "data = {\n",
        "    'Name': ['Alice', 'Bob', 'Charlie', 'David'],\n",
        "    'Age': [25, 30, 35, 40],\n",
        "    'Salary': [50000, 60000, 70000, 80000]\n",
        "}\n",
        "\n",
        "df = pd.DataFrame(data)\n",
        "\n",
        "# Calculate the mean of the 'Salary' column\n",
        "mean_salary = df['Salary'].mean()\n",
        "print(f\"Mean Salary: {mean_salary}\")"
      ],
      "metadata": {
        "id": "OHgAFyan2LJu",
        "colab": {
          "base_uri": "https://localhost:8080/"
        },
        "outputId": "d31780f2-9140-4123-b3f3-4e4a16f967da"
      },
      "execution_count": 26,
      "outputs": [
        {
          "output_type": "stream",
          "name": "stdout",
          "text": [
            "Mean Salary: 65000.0\n"
          ]
        }
      ]
    },
    {
      "cell_type": "markdown",
      "source": [
        "**Question 3:** Create a scatter plot using Matplotlib."
      ],
      "metadata": {
        "id": "F3OHLZo6UOek"
      }
    },
    {
      "cell_type": "code",
      "source": [
        "x = np.random.rand(50) * 10\n",
        "y = np.random.rand(50) * 100\n",
        "\n",
        "plt.scatter(x, y, marker = \"x\")\n",
        "plt.show()"
      ],
      "metadata": {
        "colab": {
          "base_uri": "https://localhost:8080/",
          "height": 430
        },
        "id": "EBZtVnk-UJyy",
        "outputId": "4f1b502e-6554-4e3c-afa4-1f31cc17fc2c"
      },
      "execution_count": 27,
      "outputs": [
        {
          "output_type": "display_data",
          "data": {
            "text/plain": [
              "<Figure size 640x480 with 1 Axes>"
            ],
            "image/png": "[encoded data removed]"
          },
          "metadata": {}
        }
      ]
    },
    {
      "cell_type": "markdown",
      "source": [
        "**Question 4:** How do you calculate the correlation matrix using Seaborn and visualize it with a heatmap?"
      ],
      "metadata": {
        "id": "-6TrZD89Uxhv"
      }
    },
    {
      "cell_type": "code",
      "source": [
        "df = pd.DataFrame({\n",
        "    'A': np.random.randn(100),\n",
        "    'B': np.random.randn(100),\n",
        "    'C': np.random.randn(100),\n",
        "    'D': np.random.randn(100)\n",
        "})\n",
        "\n",
        "corr = df.corr()\n",
        "\n",
        "\n",
        "mask = np.triu(np.ones_like(corr, dtype=bool))\n",
        "\n",
        "plt.figure(figsize=(8, 6))\n",
        "\n",
        "\n",
        "sns.heatmap(\n",
        "    corr,\n",
        "    mask=mask,           # hide upper triangle (optional)\n",
        "    cmap='coolwarm',     # diverging colormap centered at zero\n",
        "    annot=True,          # show correlation coefficients\n",
        "    fmt=\".2f\",           # two decimal precision\n",
        "    square=True,         # square cells\n",
        "    linewidths=.5,       # lines between squares\n",
        "    cbar_kws={\"shrink\": .75}  # colorbar size\n",
        ")\n",
        "\n",
        "\n",
        "plt.title('Correlation Matrix Heatmap', fontsize=14, pad=10)\n",
        "plt.tight_layout()\n",
        "plt.show()"
      ],
      "metadata": {
        "colab": {
          "base_uri": "https://localhost:8080/",
          "height": 606
        },
        "id": "OSM7Gbc-UpKp",
        "outputId": "09a59c60-20ba-48c1-81e4-43fc3c81ac4d"
      },
      "execution_count": 28,
      "outputs": [
        {
          "output_type": "display_data",
          "data": {
            "text/plain": [
              "<Figure size 800x600 with 2 Axes>"
            ],
            "image/png": "[encoded data removed]"
          },
          "metadata": {}
        }
      ]
    },
    {
      "cell_type": "markdown",
      "source": [
        "**Question 5:** Generate a bar plot using Plotly"
      ],
      "metadata": {
        "id": "__IuuvT5WqY7"
      }
    },
    {
      "cell_type": "code",
      "source": [
        "Data = pd.DataFrame({\n",
        "    'Category': ['A', 'B', 'C', 'D', 'E'],\n",
        "    'Value': [14, 12, 8, 10, 16]\n",
        "})\n",
        "\n",
        "fig = go.Figure()\n",
        "fig.add_trace(go.Scatter(x=Data['Category'], y=Data['Value'], mode='lines+markers'))"
      ],
      "metadata": {
        "colab": {
          "base_uri": "https://localhost:8080/",
          "height": 542
        },
        "id": "U0nl8PvOWnnp",
        "outputId": "1cabc49a-6e4e-4861-b08d-df2c588c0bc7"
      },
      "execution_count": 29,
      "outputs": [
        {
          "output_type": "display_data",
          "data": {
            "text/html": [
              "<html>\n",
              "<head><meta charset=\"utf-8\" /></head>\n",
              "<body>\n",
              "    <div>            <script src=\"https://cdnjs.cloudflare.com/ajax/libs/mathjax/2.7.5/MathJax.js?config=TeX-AMS-MML_SVG\"></script><script type=\"text/javascript\">if (window.MathJax && window.MathJax.Hub && window.MathJax.Hub.Config) {window.MathJax.Hub.Config({SVG: {font: \"STIX-Web\"}});}</script>                <script type=\"text/javascript\">window.PlotlyConfig = {MathJaxConfig: 'local'};</script>\n",
              "        <script charset=\"utf-8\" src=\"https://cdn.plot.ly/plotly-2.35.2.min.js\"></script>                <div id=\"fe99cbc9-d9db-4850-b7e4-20db54cf7da4\" class=\"plotly-graph-div\" style=\"height:525px; width:100%;\"></div>            <script type=\"text/javascript\">                                    window.PLOTLYENV=window.PLOTLYENV || {};                                    if (document.getElementById(\"fe99cbc9-d9db-4850-b7e4-20db54cf7da4\")) {                    Plotly.newPlot(                        \"fe99cbc9-d9db-4850-b7e4-20db54cf7da4\",                        [{\"mode\":\"lines+markers\",\"x\":[\"A\",\"B\",\"C\",\"D\",\"E\"],\"y\":[14,12,8,10,16],\"type\":\"scatter\"}],                        {\"template\":{\"data\":{\"histogram2dcontour\":[{\"type\":\"histogram2dcontour\",\"colorbar\":{\"outlinewidth\":0,\"ticks\":\"\"},\"colorscale\":[[0.0,\"#0d0887\"],[0.1111111111111111,\"#46039f\"],[0.2222222222222222,\"#7201a8\"],[0.3333333333333333,\"#9c179e\"],[0.4444444444444444,\"#bd3786\"],[0.5555555555555556,\"#d8576b\"],[0.6666666666666666,\"#ed7953\"],[0.7777777777777778,\"#fb9f3a\"],[0.8888888888888888,\"#fdca26\"],[1.0,\"#f0f921\"]]}],\"choropleth\":[{\"type\":\"choropleth\",\"colorbar\":{\"outlinewidth\":0,\"ticks\":\"\"}}],\"histogram2d\":[{\"type\":\"histogram2d\",\"colorbar\":{\"outlinewidth\":0,\"ticks\":\"\"},\"colorscale\":[[0.0,\"#0d0887\"],[0.1111111111111111,\"#46039f\"],[0.2222222222222222,\"#7201a8\"],[0.3333333333333333,\"#9c179e\"],[0.4444444444444444,\"#bd3786\"],[0.5555555555555556,\"#d8576b\"],[0.6666666666666666,\"#ed7953\"],[0.7777777777777778,\"#fb9f3a\"],[0.8888888888888888,\"#fdca26\"],[1.0,\"#f0f921\"]]}],\"heatmap\":[{\"type\":\"heatmap\",\"colorbar\":{\"outlinewidth\":0,\"ticks\":\"\"},\"colorscale\":[[0.0,\"#0d0887\"],[0.1111111111111111,\"#46039f\"],[0.2222222222222222,\"#7201a8\"],[0.3333333333333333,\"#9c179e\"],[0.4444444444444444,\"#bd3786\"],[0.5555555555555556,\"#d8576b\"],[0.6666666666666666,\"#ed7953\"],[0.7777777777777778,\"#fb9f3a\"],[0.8888888888888888,\"#fdca26\"],[1.0,\"#f0f921\"]]}],\"heatmapgl\":[{\"type\":\"heatmapgl\",\"colorbar\":{\"outlinewidth\":0,\"ticks\":\"\"},\"colorscale\":[[0.0,\"#0d0887\"],[0.1111111111111111,\"#46039f\"],[0.2222222222222222,\"#7201a8\"],[0.3333333333333333,\"#9c179e\"],[0.4444444444444444,\"#bd3786\"],[0.5555555555555556,\"#d8576b\"],[0.6666666666666666,\"#ed7953\"],[0.7777777777777778,\"#fb9f3a\"],[0.8888888888888888,\"#fdca26\"],[1.0,\"#f0f921\"]]}],\"contourcarpet\":[{\"type\":\"contourcarpet\",\"colorbar\":{\"outlinewidth\":0,\"ticks\":\"\"}}],\"contour\":[{\"type\":\"contour\",\"colorbar\":{\"outlinewidth\":0,\"ticks\":\"\"},\"colorscale\":[[0.0,\"#0d0887\"],[0.1111111111111111,\"#46039f\"],[0.2222222222222222,\"#7201a8\"],[0.3333333333333333,\"#9c179e\"],[0.4444444444444444,\"#bd3786\"],[0.5555555555555556,\"#d8576b\"],[0.6666666666666666,\"#ed7953\"],[0.7777777777777778,\"#fb9f3a\"],[0.8888888888888888,\"#fdca26\"],[1.0,\"#f0f921\"]]}],\"surface\":[{\"type\":\"surface\",\"colorbar\":{\"outlinewidth\":0,\"ticks\":\"\"},\"colorscale\":[[0.0,\"#0d0887\"],[0.1111111111111111,\"#46039f\"],[0.2222222222222222,\"#7201a8\"],[0.3333333333333333,\"#9c179e\"],[0.4444444444444444,\"#bd3786\"],[0.5555555555555556,\"#d8576b\"],[0.6666666666666666,\"#ed7953\"],[0.7777777777777778,\"#fb9f3a\"],[0.8888888888888888,\"#fdca26\"],[1.0,\"#f0f921\"]]}],\"mesh3d\":[{\"type\":\"mesh3d\",\"colorbar\":{\"outlinewidth\":0,\"ticks\":\"\"}}],\"scatter\":[{\"fillpattern\":{\"fillmode\":\"overlay\",\"size\":10,\"solidity\":0.2},\"type\":\"scatter\"}],\"parcoords\":[{\"type\":\"parcoords\",\"line\":{\"colorbar\":{\"outlinewidth\":0,\"ticks\":\"\"}}}],\"scatterpolargl\":[{\"type\":\"scatterpolargl\",\"marker\":{\"colorbar\":{\"outlinewidth\":0,\"ticks\":\"\"}}}],\"bar\":[{\"error_x\":{\"color\":\"#2a3f5f\"},\"error_y\":{\"color\":\"#2a3f5f\"},\"marker\":{\"line\":{\"color\":\"#E5ECF6\",\"width\":0.5},\"pattern\":{\"fillmode\":\"overlay\",\"size\":10,\"solidity\":0.2}},\"type\":\"bar\"}],\"scattergeo\":[{\"type\":\"scattergeo\",\"marker\":{\"colorbar\":{\"outlinewidth\":0,\"ticks\":\"\"}}}],\"scatterpolar\":[{\"type\":\"scatterpolar\",\"marker\":{\"colorbar\":{\"outlinewidth\":0,\"ticks\":\"\"}}}],\"histogram\":[{\"marker\":{\"pattern\":{\"fillmode\":\"overlay\",\"size\":10,\"solidity\":0.2}},\"type\":\"histogram\"}],\"scattergl\":[{\"type\":\"scattergl\",\"marker\":{\"colorbar\":{\"outlinewidth\":0,\"ticks\":\"\"}}}],\"scatter3d\":[{\"type\":\"scatter3d\",\"line\":{\"colorbar\":{\"outlinewidth\":0,\"ticks\":\"\"}},\"marker\":{\"colorbar\":{\"outlinewidth\":0,\"ticks\":\"\"}}}],\"scattermapbox\":[{\"type\":\"scattermapbox\",\"marker\":{\"colorbar\":{\"outlinewidth\":0,\"ticks\":\"\"}}}],\"scatterternary\":[{\"type\":\"scatterternary\",\"marker\":{\"colorbar\":{\"outlinewidth\":0,\"ticks\":\"\"}}}],\"scattercarpet\":[{\"type\":\"scattercarpet\",\"marker\":{\"colorbar\":{\"outlinewidth\":0,\"ticks\":\"\"}}}],\"carpet\":[{\"aaxis\":{\"endlinecolor\":\"#2a3f5f\",\"gridcolor\":\"white\",\"linecolor\":\"white\",\"minorgridcolor\":\"white\",\"startlinecolor\":\"#2a3f5f\"},\"baxis\":{\"endlinecolor\":\"#2a3f5f\",\"gridcolor\":\"white\",\"linecolor\":\"white\",\"minorgridcolor\":\"white\",\"startlinecolor\":\"#2a3f5f\"},\"type\":\"carpet\"}],\"table\":[{\"cells\":{\"fill\":{\"color\":\"#EBF0F8\"},\"line\":{\"color\":\"white\"}},\"header\":{\"fill\":{\"color\":\"#C8D4E3\"},\"line\":{\"color\":\"white\"}},\"type\":\"table\"}],\"barpolar\":[{\"marker\":{\"line\":{\"color\":\"#E5ECF6\",\"width\":0.5},\"pattern\":{\"fillmode\":\"overlay\",\"size\":10,\"solidity\":0.2}},\"type\":\"barpolar\"}],\"pie\":[{\"automargin\":true,\"type\":\"pie\"}]},\"layout\":{\"autotypenumbers\":\"strict\",\"colorway\":[\"#636efa\",\"#EF553B\",\"#00cc96\",\"#ab63fa\",\"#FFA15A\",\"#19d3f3\",\"#FF6692\",\"#B6E880\",\"#FF97FF\",\"#FECB52\"],\"font\":{\"color\":\"#2a3f5f\"},\"hovermode\":\"closest\",\"hoverlabel\":{\"align\":\"left\"},\"paper_bgcolor\":\"white\",\"plot_bgcolor\":\"#E5ECF6\",\"polar\":{\"bgcolor\":\"#E5ECF6\",\"angularaxis\":{\"gridcolor\":\"white\",\"linecolor\":\"white\",\"ticks\":\"\"},\"radialaxis\":{\"gridcolor\":\"white\",\"linecolor\":\"white\",\"ticks\":\"\"}},\"ternary\":{\"bgcolor\":\"#E5ECF6\",\"aaxis\":{\"gridcolor\":\"white\",\"linecolor\":\"white\",\"ticks\":\"\"},\"baxis\":{\"gridcolor\":\"white\",\"linecolor\":\"white\",\"ticks\":\"\"},\"caxis\":{\"gridcolor\":\"white\",\"linecolor\":\"white\",\"ticks\":\"\"}},\"coloraxis\":{\"colorbar\":{\"outlinewidth\":0,\"ticks\":\"\"}},\"colorscale\":{\"sequential\":[[0.0,\"#0d0887\"],[0.1111111111111111,\"#46039f\"],[0.2222222222222222,\"#7201a8\"],[0.3333333333333333,\"#9c179e\"],[0.4444444444444444,\"#bd3786\"],[0.5555555555555556,\"#d8576b\"],[0.6666666666666666,\"#ed7953\"],[0.7777777777777778,\"#fb9f3a\"],[0.8888888888888888,\"#fdca26\"],[1.0,\"#f0f921\"]],\"sequentialminus\":[[0.0,\"#0d0887\"],[0.1111111111111111,\"#46039f\"],[0.2222222222222222,\"#7201a8\"],[0.3333333333333333,\"#9c179e\"],[0.4444444444444444,\"#bd3786\"],[0.5555555555555556,\"#d8576b\"],[0.6666666666666666,\"#ed7953\"],[0.7777777777777778,\"#fb9f3a\"],[0.8888888888888888,\"#fdca26\"],[1.0,\"#f0f921\"]],\"diverging\":[[0,\"#8e0152\"],[0.1,\"#c51b7d\"],[0.2,\"#de77ae\"],[0.3,\"#f1b6da\"],[0.4,\"#fde0ef\"],[0.5,\"#f7f7f7\"],[0.6,\"#e6f5d0\"],[0.7,\"#b8e186\"],[0.8,\"#7fbc41\"],[0.9,\"#4d9221\"],[1,\"#276419\"]]},\"xaxis\":{\"gridcolor\":\"white\",\"linecolor\":\"white\",\"ticks\":\"\",\"title\":{\"standoff\":15},\"zerolinecolor\":\"white\",\"automargin\":true,\"zerolinewidth\":2},\"yaxis\":{\"gridcolor\":\"white\",\"linecolor\":\"white\",\"ticks\":\"\",\"title\":{\"standoff\":15},\"zerolinecolor\":\"white\",\"automargin\":true,\"zerolinewidth\":2},\"scene\":{\"xaxis\":{\"backgroundcolor\":\"#E5ECF6\",\"gridcolor\":\"white\",\"linecolor\":\"white\",\"showbackground\":true,\"ticks\":\"\",\"zerolinecolor\":\"white\",\"gridwidth\":2},\"yaxis\":{\"backgroundcolor\":\"#E5ECF6\",\"gridcolor\":\"white\",\"linecolor\":\"white\",\"showbackground\":true,\"ticks\":\"\",\"zerolinecolor\":\"white\",\"gridwidth\":2},\"zaxis\":{\"backgroundcolor\":\"#E5ECF6\",\"gridcolor\":\"white\",\"linecolor\":\"white\",\"showbackground\":true,\"ticks\":\"\",\"zerolinecolor\":\"white\",\"gridwidth\":2}},\"shapedefaults\":{\"line\":{\"color\":\"#2a3f5f\"}},\"annotationdefaults\":{\"arrowcolor\":\"#2a3f5f\",\"arrowhead\":0,\"arrowwidth\":1},\"geo\":{\"bgcolor\":\"white\",\"landcolor\":\"#E5ECF6\",\"subunitcolor\":\"white\",\"showland\":true,\"showlakes\":true,\"lakecolor\":\"white\"},\"title\":{\"x\":0.05},\"mapbox\":{\"style\":\"light\"}}}},                        {\"responsive\": true}                    ).then(function(){\n",
              "                            \n",
              "var gd = document.getElementById('fe99cbc9-d9db-4850-b7e4-20db54cf7da4');\n",
              "var x = new MutationObserver(function (mutations, observer) {{\n",
              "        var display = window.getComputedStyle(gd).display;\n",
              "        if (!display || display === 'none') {{\n",
              "            console.log([gd, 'removed!']);\n",
              "            Plotly.purge(gd);\n",
              "            observer.disconnect();\n",
              "        }}\n",
              "}});\n",
              "\n",
              "// Listen for the removal of the full notebook cells\n",
              "var notebookContainer = gd.closest('#notebook-container');\n",
              "if (notebookContainer) {{\n",
              "    x.observe(notebookContainer, {childList: true});\n",
              "}}\n",
              "\n",
              "// Listen for the clearing of the current output cell\n",
              "var outputEl = gd.closest('.output');\n",
              "if (outputEl) {{\n",
              "    x.observe(outputEl, {childList: true});\n",
              "}}\n",
              "\n",
              "                        })                };                            </script>        </div>\n",
              "</body>\n",
              "</html>"
            ]
          },
          "metadata": {}
        }
      ]
    },
    {
      "cell_type": "markdown",
      "source": [
        "**Question 6:** Create a DataFrame and add a new column based on an existing column."
      ],
      "metadata": {
        "id": "v9fj2kNZXaYS"
      }
    },
    {
      "cell_type": "code",
      "source": [
        "sns.get_dataset_names()"
      ],
      "metadata": {
        "colab": {
          "base_uri": "https://localhost:8080/"
        },
        "id": "vCES7jSVXU5q",
        "outputId": "fd26a5ef-8db0-4951-fbf5-3b9961847764"
      },
      "execution_count": 30,
      "outputs": [
        {
          "output_type": "execute_result",
          "data": {
            "text/plain": [
              "['anagrams',\n",
              " 'anscombe',\n",
              " 'attention',\n",
              " 'brain_networks',\n",
              " 'car_crashes',\n",
              " 'diamonds',\n",
              " 'dots',\n",
              " 'dowjones',\n",
              " 'exercise',\n",
              " 'flights',\n",
              " 'fmri',\n",
              " 'geyser',\n",
              " 'glue',\n",
              " 'healthexp',\n",
              " 'iris',\n",
              " 'mpg',\n",
              " 'penguins',\n",
              " 'planets',\n",
              " 'seaice',\n",
              " 'taxis',\n",
              " 'tips',\n",
              " 'titanic']"
            ]
          },
          "metadata": {},
          "execution_count": 30
        }
      ]
    },
    {
      "cell_type": "code",
      "source": [
        "Tips = sns.load_dataset('tips').head(10)\n",
        "Tips\n"
      ],
      "metadata": {
        "colab": {
          "base_uri": "https://localhost:8080/",
          "height": 363
        },
        "id": "kQ014_UxXi2c",
        "outputId": "be331c47-97a9-48c4-8f86-ac76f2d24d18"
      },
      "execution_count": 31,
      "outputs": [
        {
          "output_type": "execute_result",
          "data": {
            "text/plain": [
              "   total_bill   tip     sex smoker  day    time  size\n",
              "0       16.99  1.01  Female     No  Sun  Dinner     2\n",
              "1       10.34  1.66    Male     No  Sun  Dinner     3\n",
              "2       21.01  3.50    Male     No  Sun  Dinner     3\n",
              "3       23.68  3.31    Male     No  Sun  Dinner     2\n",
              "4       24.59  3.61  Female     No  Sun  Dinner     4\n",
              "5       25.29  4.71    Male     No  Sun  Dinner     4\n",
              "6        8.77  2.00    Male     No  Sun  Dinner     2\n",
              "7       26.88  3.12    Male     No  Sun  Dinner     4\n",
              "8       15.04  1.96    Male     No  Sun  Dinner     2\n",
              "9       14.78  3.23    Male     No  Sun  Dinner     2"
            ],
            "text/html": [
              "\n",
              "  <div id=\"df-0bb881b7-a697-4a03-bb30-ba48e5145a76\" class=\"colab-df-container\">\n",
              "    <div>\n",
              "<style scoped>\n",
              "    .dataframe tbody tr th:only-of-type {\n",
              "        vertical-align: middle;\n",
              "    }\n",
              "\n",
              "    .dataframe tbody tr th {\n",
              "        vertical-align: top;\n",
              "    }\n",
              "\n",
              "    .dataframe thead th {\n",
              "        text-align: right;\n",
              "    }\n",
              "</style>\n",
              "<table border=\"1\" class=\"dataframe\">\n",
              "  <thead>\n",
              "    <tr style=\"text-align: right;\">\n",
              "      <th></th>\n",
              "      <th>total_bill</th>\n",
              "      <th>tip</th>\n",
              "      <th>sex</th>\n",
              "      <th>smoker</th>\n",
              "      <th>day</th>\n",
              "      <th>time</th>\n",
              "      <th>size</th>\n",
              "    </tr>\n",
              "  </thead>\n",
              "  <tbody>\n",
              "    <tr>\n",
              "      <th>0</th>\n",
              "      <td>16.99</td>\n",
              "      <td>1.01</td>\n",
              "      <td>Female</td>\n",
              "      <td>No</td>\n",
              "      <td>Sun</td>\n",
              "      <td>Dinner</td>\n",
              "      <td>2</td>\n",
              "    </tr>\n",
              "    <tr>\n",
              "      <th>1</th>\n",
              "      <td>10.34</td>\n",
              "      <td>1.66</td>\n",
              "      <td>Male</td>\n",
              "      <td>No</td>\n",
              "      <td>Sun</td>\n",
              "      <td>Dinner</td>\n",
              "      <td>3</td>\n",
              "    </tr>\n",
              "    <tr>\n",
              "      <th>2</th>\n",
              "      <td>21.01</td>\n",
              "      <td>3.50</td>\n",
              "      <td>Male</td>\n",
              "      <td>No</td>\n",
              "      <td>Sun</td>\n",
              "      <td>Dinner</td>\n",
              "      <td>3</td>\n",
              "    </tr>\n",
              "    <tr>\n",
              "      <th>3</th>\n",
              "      <td>23.68</td>\n",
              "      <td>3.31</td>\n",
              "      <td>Male</td>\n",
              "      <td>No</td>\n",
              "      <td>Sun</td>\n",
              "      <td>Dinner</td>\n",
              "      <td>2</td>\n",
              "    </tr>\n",
              "    <tr>\n",
              "      <th>4</th>\n",
              "      <td>24.59</td>\n",
              "      <td>3.61</td>\n",
              "      <td>Female</td>\n",
              "      <td>No</td>\n",
              "      <td>Sun</td>\n",
              "      <td>Dinner</td>\n",
              "      <td>4</td>\n",
              "    </tr>\n",
              "    <tr>\n",
              "      <th>5</th>\n",
              "      <td>25.29</td>\n",
              "      <td>4.71</td>\n",
              "      <td>Male</td>\n",
              "      <td>No</td>\n",
              "      <td>Sun</td>\n",
              "      <td>Dinner</td>\n",
              "      <td>4</td>\n",
              "    </tr>\n",
              "    <tr>\n",
              "      <th>6</th>\n",
              "      <td>8.77</td>\n",
              "      <td>2.00</td>\n",
              "      <td>Male</td>\n",
              "      <td>No</td>\n",
              "      <td>Sun</td>\n",
              "      <td>Dinner</td>\n",
              "      <td>2</td>\n",
              "    </tr>\n",
              "    <tr>\n",
              "      <th>7</th>\n",
              "      <td>26.88</td>\n",
              "      <td>3.12</td>\n",
              "      <td>Male</td>\n",
              "      <td>No</td>\n",
              "      <td>Sun</td>\n",
              "      <td>Dinner</td>\n",
              "      <td>4</td>\n",
              "    </tr>\n",
              "    <tr>\n",
              "      <th>8</th>\n",
              "      <td>15.04</td>\n",
              "      <td>1.96</td>\n",
              "      <td>Male</td>\n",
              "      <td>No</td>\n",
              "      <td>Sun</td>\n",
              "      <td>Dinner</td>\n",
              "      <td>2</td>\n",
              "    </tr>\n",
              "    <tr>\n",
              "      <th>9</th>\n",
              "      <td>14.78</td>\n",
              "      <td>3.23</td>\n",
              "      <td>Male</td>\n",
              "      <td>No</td>\n",
              "      <td>Sun</td>\n",
              "      <td>Dinner</td>\n",
              "      <td>2</td>\n",
              "    </tr>\n",
              "  </tbody>\n",
              "</table>\n",
              "</div>\n",
              "    <div class=\"colab-df-buttons\">\n",
              "\n",
              "  <div class=\"colab-df-container\">\n",
              "    <button class=\"colab-df-convert\" onclick=\"convertToInteractive('df-0bb881b7-a697-4a03-bb30-ba48e5145a76')\"\n",
              "            title=\"Convert this dataframe to an interactive table.\"\n",
              "            style=\"display:none;\">\n",
              "\n",
              "  <svg xmlns=\"http://www.w3.org/2000/svg\" height=\"24px\" viewBox=\"0 -960 960 960\">\n",
              "    <path d=\"M120-120v-720h720v720H120Zm60-500h600v-160H180v160Zm220 220h160v-160H400v160Zm0 220h160v-160H400v160ZM180-400h160v-160H180v160Zm440 0h160v-160H620v160ZM180-180h160v-160H180v160Zm440 0h160v-160H620v160Z\"/>\n",
              "  </svg>\n",
              "    </button>\n",
              "\n",
              "  <style>\n",
              "    .colab-df-container {\n",
              "      display:flex;\n",
              "      gap: 12px;\n",
              "    }\n",
              "\n",
              "    .colab-df-convert {\n",
              "      background-color: #E8F0FE;\n",
              "      border: none;\n",
              "      border-radius: 50%;\n",
              "      cursor: pointer;\n",
              "      display: none;\n",
              "      fill: #1967D2;\n",
              "      height: 32px;\n",
              "      padding: 0 0 0 0;\n",
              "      width: 32px;\n",
              "    }\n",
              "\n",
              "    .colab-df-convert:hover {\n",
              "      background-color: #E2EBFA;\n",
              "      box-shadow: 0px 1px 2px rgba(60, 64, 67, 0.3), 0px 1px 3px 1px rgba(60, 64, 67, 0.15);\n",
              "      fill: #174EA6;\n",
              "    }\n",
              "\n",
              "    .colab-df-buttons div {\n",
              "      margin-bottom: 4px;\n",
              "    }\n",
              "\n",
              "    [theme=dark] .colab-df-convert {\n",
              "      background-color: #3B4455;\n",
              "      fill: #D2E3FC;\n",
              "    }\n",
              "\n",
              "    [theme=dark] .colab-df-convert:hover {\n",
              "      background-color: #434B5C;\n",
              "      box-shadow: 0px 1px 3px 1px rgba(0, 0, 0, 0.15);\n",
              "      filter: drop-shadow(0px 1px 2px rgba(0, 0, 0, 0.3));\n",
              "      fill: #FFFFFF;\n",
              "    }\n",
              "  </style>\n",
              "\n",
              "    <script>\n",
              "      const buttonEl =\n",
              "        document.querySelector('#df-0bb881b7-a697-4a03-bb30-ba48e5145a76 button.colab-df-convert');\n",
              "      buttonEl.style.display =\n",
              "        google.colab.kernel.accessAllowed ? 'block' : 'none';\n",
              "\n",
              "      async function convertToInteractive(key) {\n",
              "        const element = document.querySelector('#df-0bb881b7-a697-4a03-bb30-ba48e5145a76');\n",
              "        const dataTable =\n",
              "          await google.colab.kernel.invokeFunction('convertToInteractive',\n",
              "                                                    [key], {});\n",
              "        if (!dataTable) return;\n",
              "\n",
              "        const docLinkHtml = 'Like what you see? Visit the ' +\n",
              "          '<a target=\"_blank\" href=https://colab.research.google.com/notebooks/data_table.ipynb>data table notebook</a>'\n",
              "          + ' to learn more about interactive tables.';\n",
              "        element.innerHTML = '';\n",
              "        dataTable['output_type'] = 'display_data';\n",
              "        await google.colab.output.renderOutput(dataTable, element);\n",
              "        const docLink = document.createElement('div');\n",
              "        docLink.innerHTML = docLinkHtml;\n",
              "        element.appendChild(docLink);\n",
              "      }\n",
              "    </script>\n",
              "  </div>\n",
              "\n",
              "\n",
              "    <div id=\"df-ae37ed3d-8088-4acf-b1ee-59e3c3347f96\">\n",
              "      <button class=\"colab-df-quickchart\" onclick=\"quickchart('df-ae37ed3d-8088-4acf-b1ee-59e3c3347f96')\"\n",
              "                title=\"Suggest charts\"\n",
              "                style=\"display:none;\">\n",
              "\n",
              "<svg xmlns=\"http://www.w3.org/2000/svg\" height=\"24px\"viewBox=\"0 0 24 24\"\n",
              "     width=\"24px\">\n",
              "    <g>\n",
              "        <path d=\"M19 3H5c-1.1 0-2 .9-2 2v14c0 1.1.9 2 2 2h14c1.1 0 2-.9 2-2V5c0-1.1-.9-2-2-2zM9 17H7v-7h2v7zm4 0h-2V7h2v10zm4 0h-2v-4h2v4z\"/>\n",
              "    </g>\n",
              "</svg>\n",
              "      </button>\n",
              "\n",
              "<style>\n",
              "  .colab-df-quickchart {\n",
              "      --bg-color: #E8F0FE;\n",
              "      --fill-color: #1967D2;\n",
              "      --hover-bg-color: #E2EBFA;\n",
              "      --hover-fill-color: #174EA6;\n",
              "      --disabled-fill-color: #AAA;\n",
              "      --disabled-bg-color: #DDD;\n",
              "  }\n",
              "\n",
              "  [theme=dark] .colab-df-quickchart {\n",
              "      --bg-color: #3B4455;\n",
              "      --fill-color: #D2E3FC;\n",
              "      --hover-bg-color: #434B5C;\n",
              "      --hover-fill-color: #FFFFFF;\n",
              "      --disabled-bg-color: #3B4455;\n",
              "      --disabled-fill-color: #666;\n",
              "  }\n",
              "\n",
              "  .colab-df-quickchart {\n",
              "    background-color: var(--bg-color);\n",
              "    border: none;\n",
              "    border-radius: 50%;\n",
              "    cursor: pointer;\n",
              "    display: none;\n",
              "    fill: var(--fill-color);\n",
              "    height: 32px;\n",
              "    padding: 0;\n",
              "    width: 32px;\n",
              "  }\n",
              "\n",
              "  .colab-df-quickchart:hover {\n",
              "    background-color: var(--hover-bg-color);\n",
              "    box-shadow: 0 1px 2px rgba(60, 64, 67, 0.3), 0 1px 3px 1px rgba(60, 64, 67, 0.15);\n",
              "    fill: var(--button-hover-fill-color);\n",
              "  }\n",
              "\n",
              "  .colab-df-quickchart-complete:disabled,\n",
              "  .colab-df-quickchart-complete:disabled:hover {\n",
              "    background-color: var(--disabled-bg-color);\n",
              "    fill: var(--disabled-fill-color);\n",
              "    box-shadow: none;\n",
              "  }\n",
              "\n",
              "  .colab-df-spinner {\n",
              "    border: 2px solid var(--fill-color);\n",
              "    border-color: transparent;\n",
              "    border-bottom-color: var(--fill-color);\n",
              "    animation:\n",
              "      spin 1s steps(1) infinite;\n",
              "  }\n",
              "\n",
              "  @keyframes spin {\n",
              "    0% {\n",
              "      border-color: transparent;\n",
              "      border-bottom-color: var(--fill-color);\n",
              "      border-left-color: var(--fill-color);\n",
              "    }\n",
              "    20% {\n",
              "      border-color: transparent;\n",
              "      border-left-color: var(--fill-color);\n",
              "      border-top-color: var(--fill-color);\n",
              "    }\n",
              "    30% {\n",
              "      border-color: transparent;\n",
              "      border-left-color: var(--fill-color);\n",
              "      border-top-color: var(--fill-color);\n",
              "      border-right-color: var(--fill-color);\n",
              "    }\n",
              "    40% {\n",
              "      border-color: transparent;\n",
              "      border-right-color: var(--fill-color);\n",
              "      border-top-color: var(--fill-color);\n",
              "    }\n",
              "    60% {\n",
              "      border-color: transparent;\n",
              "      border-right-color: var(--fill-color);\n",
              "    }\n",
              "    80% {\n",
              "      border-color: transparent;\n",
              "      border-right-color: var(--fill-color);\n",
              "      border-bottom-color: var(--fill-color);\n",
              "    }\n",
              "    90% {\n",
              "      border-color: transparent;\n",
              "      border-bottom-color: var(--fill-color);\n",
              "    }\n",
              "  }\n",
              "</style>\n",
              "\n",
              "      <script>\n",
              "        async function quickchart(key) {\n",
              "          const quickchartButtonEl =\n",
              "            document.querySelector('#' + key + ' button');\n",
              "          quickchartButtonEl.disabled = true;  // To prevent multiple clicks.\n",
              "          quickchartButtonEl.classList.add('colab-df-spinner');\n",
              "          try {\n",
              "            const charts = await google.colab.kernel.invokeFunction(\n",
              "                'suggestCharts', [key], {});\n",
              "          } catch (error) {\n",
              "            console.error('Error during call to suggestCharts:', error);\n",
              "          }\n",
              "          quickchartButtonEl.classList.remove('colab-df-spinner');\n",
              "          quickchartButtonEl.classList.add('colab-df-quickchart-complete');\n",
              "        }\n",
              "        (() => {\n",
              "          let quickchartButtonEl =\n",
              "            document.querySelector('#df-ae37ed3d-8088-4acf-b1ee-59e3c3347f96 button');\n",
              "          quickchartButtonEl.style.display =\n",
              "            google.colab.kernel.accessAllowed ? 'block' : 'none';\n",
              "        })();\n",
              "      </script>\n",
              "    </div>\n",
              "\n",
              "  <div id=\"id_cb0a3ea6-4c79-4153-95e4-8078f64860da\">\n",
              "    <style>\n",
              "      .colab-df-generate {\n",
              "        background-color: #E8F0FE;\n",
              "        border: none;\n",
              "        border-radius: 50%;\n",
              "        cursor: pointer;\n",
              "        display: none;\n",
              "        fill: #1967D2;\n",
              "        height: 32px;\n",
              "        padding: 0 0 0 0;\n",
              "        width: 32px;\n",
              "      }\n",
              "\n",
              "      .colab-df-generate:hover {\n",
              "        background-color: #E2EBFA;\n",
              "        box-shadow: 0px 1px 2px rgba(60, 64, 67, 0.3), 0px 1px 3px 1px rgba(60, 64, 67, 0.15);\n",
              "        fill: #174EA6;\n",
              "      }\n",
              "\n",
              "      [theme=dark] .colab-df-generate {\n",
              "        background-color: #3B4455;\n",
              "        fill: #D2E3FC;\n",
              "      }\n",
              "\n",
              "      [theme=dark] .colab-df-generate:hover {\n",
              "        background-color: #434B5C;\n",
              "        box-shadow: 0px 1px 3px 1px rgba(0, 0, 0, 0.15);\n",
              "        filter: drop-shadow(0px 1px 2px rgba(0, 0, 0, 0.3));\n",
              "        fill: #FFFFFF;\n",
              "      }\n",
              "    </style>\n",
              "    <button class=\"colab-df-generate\" onclick=\"generateWithVariable('Tips')\"\n",
              "            title=\"Generate code using this dataframe.\"\n",
              "            style=\"display:none;\">\n",
              "\n",
              "  <svg xmlns=\"http://www.w3.org/2000/svg\" height=\"24px\"viewBox=\"0 0 24 24\"\n",
              "       width=\"24px\">\n",
              "    <path d=\"M7,19H8.4L18.45,9,17,7.55,7,17.6ZM5,21V16.75L18.45,3.32a2,2,0,0,1,2.83,0l1.4,1.43a1.91,1.91,0,0,1,.58,1.4,1.91,1.91,0,0,1-.58,1.4L9.25,21ZM18.45,9,17,7.55Zm-12,3A5.31,5.31,0,0,0,4.9,8.1,5.31,5.31,0,0,0,1,6.5,5.31,5.31,0,0,0,4.9,4.9,5.31,5.31,0,0,0,6.5,1,5.31,5.31,0,0,0,8.1,4.9,5.31,5.31,0,0,0,12,6.5,5.46,5.46,0,0,0,6.5,12Z\"/>\n",
              "  </svg>\n",
              "    </button>\n",
              "    <script>\n",
              "      (() => {\n",
              "      const buttonEl =\n",
              "        document.querySelector('#id_cb0a3ea6-4c79-4153-95e4-8078f64860da button.colab-df-generate');\n",
              "      buttonEl.style.display =\n",
              "        google.colab.kernel.accessAllowed ? 'block' : 'none';\n",
              "\n",
              "      buttonEl.onclick = () => {\n",
              "        google.colab.notebook.generateWithVariable('Tips');\n",
              "      }\n",
              "      })();\n",
              "    </script>\n",
              "  </div>\n",
              "\n",
              "    </div>\n",
              "  </div>\n"
            ],
            "application/vnd.google.colaboratory.intrinsic+json": {
              "type": "dataframe",
              "variable_name": "Tips",
              "summary": "{\n  \"name\": \"Tips\",\n  \"rows\": 10,\n  \"fields\": [\n    {\n      \"column\": \"total_bill\",\n      \"properties\": {\n        \"dtype\": \"number\",\n        \"std\": 6.457863509792624,\n        \"min\": 8.77,\n        \"max\": 26.88,\n        \"num_unique_values\": 10,\n        \"samples\": [\n          15.04,\n          10.34,\n          25.29\n        ],\n        \"semantic_type\": \"\",\n        \"description\": \"\"\n      }\n    },\n    {\n      \"column\": \"tip\",\n      \"properties\": {\n        \"dtype\": \"number\",\n        \"std\": 1.1150331335385908,\n        \"min\": 1.01,\n        \"max\": 4.71,\n        \"num_unique_values\": 10,\n        \"samples\": [\n          1.96,\n          1.66,\n          4.71\n        ],\n        \"semantic_type\": \"\",\n        \"description\": \"\"\n      }\n    },\n    {\n      \"column\": \"sex\",\n      \"properties\": {\n        \"dtype\": \"category\",\n        \"num_unique_values\": 2,\n        \"samples\": [\n          \"Male\",\n          \"Female\"\n        ],\n        \"semantic_type\": \"\",\n        \"description\": \"\"\n      }\n    },\n    {\n      \"column\": \"smoker\",\n      \"properties\": {\n        \"dtype\": \"category\",\n        \"num_unique_values\": 1,\n        \"samples\": [\n          \"No\"\n        ],\n        \"semantic_type\": \"\",\n        \"description\": \"\"\n      }\n    },\n    {\n      \"column\": \"day\",\n      \"properties\": {\n        \"dtype\": \"category\",\n        \"num_unique_values\": 1,\n        \"samples\": [\n          \"Sun\"\n        ],\n        \"semantic_type\": \"\",\n        \"description\": \"\"\n      }\n    },\n    {\n      \"column\": \"time\",\n      \"properties\": {\n        \"dtype\": \"category\",\n        \"num_unique_values\": 1,\n        \"samples\": [\n          \"Dinner\"\n        ],\n        \"semantic_type\": \"\",\n        \"description\": \"\"\n      }\n    },\n    {\n      \"column\": \"size\",\n      \"properties\": {\n        \"dtype\": \"number\",\n        \"std\": 0,\n        \"min\": 2,\n        \"max\": 4,\n        \"num_unique_values\": 3,\n        \"samples\": [\n          2\n        ],\n        \"semantic_type\": \"\",\n        \"description\": \"\"\n      }\n    }\n  ]\n}"
            }
          },
          "metadata": {},
          "execution_count": 31
        }
      ]
    },
    {
      "cell_type": "code",
      "source": [
        "Tips[\"Double_Tip\"] =  Tips[\"tip\"]*2\n",
        "Tips"
      ],
      "metadata": {
        "colab": {
          "base_uri": "https://localhost:8080/",
          "height": 363
        },
        "id": "WZSTf531Xp-W",
        "outputId": "5c9bb575-0812-4163-d535-1079932af111"
      },
      "execution_count": 32,
      "outputs": [
        {
          "output_type": "execute_result",
          "data": {
            "text/plain": [
              "   total_bill   tip     sex smoker  day    time  size  Double_Tip\n",
              "0       16.99  1.01  Female     No  Sun  Dinner     2        2.02\n",
              "1       10.34  1.66    Male     No  Sun  Dinner     3        3.32\n",
              "2       21.01  3.50    Male     No  Sun  Dinner     3        7.00\n",
              "3       23.68  3.31    Male     No  Sun  Dinner     2        6.62\n",
              "4       24.59  3.61  Female     No  Sun  Dinner     4        7.22\n",
              "5       25.29  4.71    Male     No  Sun  Dinner     4        9.42\n",
              "6        8.77  2.00    Male     No  Sun  Dinner     2        4.00\n",
              "7       26.88  3.12    Male     No  Sun  Dinner     4        6.24\n",
              "8       15.04  1.96    Male     No  Sun  Dinner     2        3.92\n",
              "9       14.78  3.23    Male     No  Sun  Dinner     2        6.46"
            ],
            "text/html": [
              "\n",
              "  <div id=\"df-71ba112e-82ab-4c4f-95cf-c62786f86b6b\" class=\"colab-df-container\">\n",
              "    <div>\n",
              "<style scoped>\n",
              "    .dataframe tbody tr th:only-of-type {\n",
              "        vertical-align: middle;\n",
              "    }\n",
              "\n",
              "    .dataframe tbody tr th {\n",
              "        vertical-align: top;\n",
              "    }\n",
              "\n",
              "    .dataframe thead th {\n",
              "        text-align: right;\n",
              "    }\n",
              "</style>\n",
              "<table border=\"1\" class=\"dataframe\">\n",
              "  <thead>\n",
              "    <tr style=\"text-align: right;\">\n",
              "      <th></th>\n",
              "      <th>total_bill</th>\n",
              "      <th>tip</th>\n",
              "      <th>sex</th>\n",
              "      <th>smoker</th>\n",
              "      <th>day</th>\n",
              "      <th>time</th>\n",
              "      <th>size</th>\n",
              "      <th>Double_Tip</th>\n",
              "    </tr>\n",
              "  </thead>\n",
              "  <tbody>\n",
              "    <tr>\n",
              "      <th>0</th>\n",
              "      <td>16.99</td>\n",
              "      <td>1.01</td>\n",
              "      <td>Female</td>\n",
              "      <td>No</td>\n",
              "      <td>Sun</td>\n",
              "      <td>Dinner</td>\n",
              "      <td>2</td>\n",
              "      <td>2.02</td>\n",
              "    </tr>\n",
              "    <tr>\n",
              "      <th>1</th>\n",
              "      <td>10.34</td>\n",
              "      <td>1.66</td>\n",
              "      <td>Male</td>\n",
              "      <td>No</td>\n",
              "      <td>Sun</td>\n",
              "      <td>Dinner</td>\n",
              "      <td>3</td>\n",
              "      <td>3.32</td>\n",
              "    </tr>\n",
              "    <tr>\n",
              "      <th>2</th>\n",
              "      <td>21.01</td>\n",
              "      <td>3.50</td>\n",
              "      <td>Male</td>\n",
              "      <td>No</td>\n",
              "      <td>Sun</td>\n",
              "      <td>Dinner</td>\n",
              "      <td>3</td>\n",
              "      <td>7.00</td>\n",
              "    </tr>\n",
              "    <tr>\n",
              "      <th>3</th>\n",
              "      <td>23.68</td>\n",
              "      <td>3.31</td>\n",
              "      <td>Male</td>\n",
              "      <td>No</td>\n",
              "      <td>Sun</td>\n",
              "      <td>Dinner</td>\n",
              "      <td>2</td>\n",
              "      <td>6.62</td>\n",
              "    </tr>\n",
              "    <tr>\n",
              "      <th>4</th>\n",
              "      <td>24.59</td>\n",
              "      <td>3.61</td>\n",
              "      <td>Female</td>\n",
              "      <td>No</td>\n",
              "      <td>Sun</td>\n",
              "      <td>Dinner</td>\n",
              "      <td>4</td>\n",
              "      <td>7.22</td>\n",
              "    </tr>\n",
              "    <tr>\n",
              "      <th>5</th>\n",
              "      <td>25.29</td>\n",
              "      <td>4.71</td>\n",
              "      <td>Male</td>\n",
              "      <td>No</td>\n",
              "      <td>Sun</td>\n",
              "      <td>Dinner</td>\n",
              "      <td>4</td>\n",
              "      <td>9.42</td>\n",
              "    </tr>\n",
              "    <tr>\n",
              "      <th>6</th>\n",
              "      <td>8.77</td>\n",
              "      <td>2.00</td>\n",
              "      <td>Male</td>\n",
              "      <td>No</td>\n",
              "      <td>Sun</td>\n",
              "      <td>Dinner</td>\n",
              "      <td>2</td>\n",
              "      <td>4.00</td>\n",
              "    </tr>\n",
              "    <tr>\n",
              "      <th>7</th>\n",
              "      <td>26.88</td>\n",
              "      <td>3.12</td>\n",
              "      <td>Male</td>\n",
              "      <td>No</td>\n",
              "      <td>Sun</td>\n",
              "      <td>Dinner</td>\n",
              "      <td>4</td>\n",
              "      <td>6.24</td>\n",
              "    </tr>\n",
              "    <tr>\n",
              "      <th>8</th>\n",
              "      <td>15.04</td>\n",
              "      <td>1.96</td>\n",
              "      <td>Male</td>\n",
              "      <td>No</td>\n",
              "      <td>Sun</td>\n",
              "      <td>Dinner</td>\n",
              "      <td>2</td>\n",
              "      <td>3.92</td>\n",
              "    </tr>\n",
              "    <tr>\n",
              "      <th>9</th>\n",
              "      <td>14.78</td>\n",
              "      <td>3.23</td>\n",
              "      <td>Male</td>\n",
              "      <td>No</td>\n",
              "      <td>Sun</td>\n",
              "      <td>Dinner</td>\n",
              "      <td>2</td>\n",
              "      <td>6.46</td>\n",
              "    </tr>\n",
              "  </tbody>\n",
              "</table>\n",
              "</div>\n",
              "    <div class=\"colab-df-buttons\">\n",
              "\n",
              "  <div class=\"colab-df-container\">\n",
              "    <button class=\"colab-df-convert\" onclick=\"convertToInteractive('df-71ba112e-82ab-4c4f-95cf-c62786f86b6b')\"\n",
              "            title=\"Convert this dataframe to an interactive table.\"\n",
              "            style=\"display:none;\">\n",
              "\n",
              "  <svg xmlns=\"http://www.w3.org/2000/svg\" height=\"24px\" viewBox=\"0 -960 960 960\">\n",
              "    <path d=\"M120-120v-720h720v720H120Zm60-500h600v-160H180v160Zm220 220h160v-160H400v160Zm0 220h160v-160H400v160ZM180-400h160v-160H180v160Zm440 0h160v-160H620v160ZM180-180h160v-160H180v160Zm440 0h160v-160H620v160Z\"/>\n",
              "  </svg>\n",
              "    </button>\n",
              "\n",
              "  <style>\n",
              "    .colab-df-container {\n",
              "      display:flex;\n",
              "      gap: 12px;\n",
              "    }\n",
              "\n",
              "    .colab-df-convert {\n",
              "      background-color: #E8F0FE;\n",
              "      border: none;\n",
              "      border-radius: 50%;\n",
              "      cursor: pointer;\n",
              "      display: none;\n",
              "      fill: #1967D2;\n",
              "      height: 32px;\n",
              "      padding: 0 0 0 0;\n",
              "      width: 32px;\n",
              "    }\n",
              "\n",
              "    .colab-df-convert:hover {\n",
              "      background-color: #E2EBFA;\n",
              "      box-shadow: 0px 1px 2px rgba(60, 64, 67, 0.3), 0px 1px 3px 1px rgba(60, 64, 67, 0.15);\n",
              "      fill: #174EA6;\n",
              "    }\n",
              "\n",
              "    .colab-df-buttons div {\n",
              "      margin-bottom: 4px;\n",
              "    }\n",
              "\n",
              "    [theme=dark] .colab-df-convert {\n",
              "      background-color: #3B4455;\n",
              "      fill: #D2E3FC;\n",
              "    }\n",
              "\n",
              "    [theme=dark] .colab-df-convert:hover {\n",
              "      background-color: #434B5C;\n",
              "      box-shadow: 0px 1px 3px 1px rgba(0, 0, 0, 0.15);\n",
              "      filter: drop-shadow(0px 1px 2px rgba(0, 0, 0, 0.3));\n",
              "      fill: #FFFFFF;\n",
              "    }\n",
              "  </style>\n",
              "\n",
              "    <script>\n",
              "      const buttonEl =\n",
              "        document.querySelector('#df-71ba112e-82ab-4c4f-95cf-c62786f86b6b button.colab-df-convert');\n",
              "      buttonEl.style.display =\n",
              "        google.colab.kernel.accessAllowed ? 'block' : 'none';\n",
              "\n",
              "      async function convertToInteractive(key) {\n",
              "        const element = document.querySelector('#df-71ba112e-82ab-4c4f-95cf-c62786f86b6b');\n",
              "        const dataTable =\n",
              "          await google.colab.kernel.invokeFunction('convertToInteractive',\n",
              "                                                    [key], {});\n",
              "        if (!dataTable) return;\n",
              "\n",
              "        const docLinkHtml = 'Like what you see? Visit the ' +\n",
              "          '<a target=\"_blank\" href=https://colab.research.google.com/notebooks/data_table.ipynb>data table notebook</a>'\n",
              "          + ' to learn more about interactive tables.';\n",
              "        element.innerHTML = '';\n",
              "        dataTable['output_type'] = 'display_data';\n",
              "        await google.colab.output.renderOutput(dataTable, element);\n",
              "        const docLink = document.createElement('div');\n",
              "        docLink.innerHTML = docLinkHtml;\n",
              "        element.appendChild(docLink);\n",
              "      }\n",
              "    </script>\n",
              "  </div>\n",
              "\n",
              "\n",
              "    <div id=\"df-a6889b17-d9e4-4fe7-8531-5fe6fe9b9805\">\n",
              "      <button class=\"colab-df-quickchart\" onclick=\"quickchart('df-a6889b17-d9e4-4fe7-8531-5fe6fe9b9805')\"\n",
              "                title=\"Suggest charts\"\n",
              "                style=\"display:none;\">\n",
              "\n",
              "<svg xmlns=\"http://www.w3.org/2000/svg\" height=\"24px\"viewBox=\"0 0 24 24\"\n",
              "     width=\"24px\">\n",
              "    <g>\n",
              "        <path d=\"M19 3H5c-1.1 0-2 .9-2 2v14c0 1.1.9 2 2 2h14c1.1 0 2-.9 2-2V5c0-1.1-.9-2-2-2zM9 17H7v-7h2v7zm4 0h-2V7h2v10zm4 0h-2v-4h2v4z\"/>\n",
              "    </g>\n",
              "</svg>\n",
              "      </button>\n",
              "\n",
              "<style>\n",
              "  .colab-df-quickchart {\n",
              "      --bg-color: #E8F0FE;\n",
              "      --fill-color: #1967D2;\n",
              "      --hover-bg-color: #E2EBFA;\n",
              "      --hover-fill-color: #174EA6;\n",
              "      --disabled-fill-color: #AAA;\n",
              "      --disabled-bg-color: #DDD;\n",
              "  }\n",
              "\n",
              "  [theme=dark] .colab-df-quickchart {\n",
              "      --bg-color: #3B4455;\n",
              "      --fill-color: #D2E3FC;\n",
              "      --hover-bg-color: #434B5C;\n",
              "      --hover-fill-color: #FFFFFF;\n",
              "      --disabled-bg-color: #3B4455;\n",
              "      --disabled-fill-color: #666;\n",
              "  }\n",
              "\n",
              "  .colab-df-quickchart {\n",
              "    background-color: var(--bg-color);\n",
              "    border: none;\n",
              "    border-radius: 50%;\n",
              "    cursor: pointer;\n",
              "    display: none;\n",
              "    fill: var(--fill-color);\n",
              "    height: 32px;\n",
              "    padding: 0;\n",
              "    width: 32px;\n",
              "  }\n",
              "\n",
              "  .colab-df-quickchart:hover {\n",
              "    background-color: var(--hover-bg-color);\n",
              "    box-shadow: 0 1px 2px rgba(60, 64, 67, 0.3), 0 1px 3px 1px rgba(60, 64, 67, 0.15);\n",
              "    fill: var(--button-hover-fill-color);\n",
              "  }\n",
              "\n",
              "  .colab-df-quickchart-complete:disabled,\n",
              "  .colab-df-quickchart-complete:disabled:hover {\n",
              "    background-color: var(--disabled-bg-color);\n",
              "    fill: var(--disabled-fill-color);\n",
              "    box-shadow: none;\n",
              "  }\n",
              "\n",
              "  .colab-df-spinner {\n",
              "    border: 2px solid var(--fill-color);\n",
              "    border-color: transparent;\n",
              "    border-bottom-color: var(--fill-color);\n",
              "    animation:\n",
              "      spin 1s steps(1) infinite;\n",
              "  }\n",
              "\n",
              "  @keyframes spin {\n",
              "    0% {\n",
              "      border-color: transparent;\n",
              "      border-bottom-color: var(--fill-color);\n",
              "      border-left-color: var(--fill-color);\n",
              "    }\n",
              "    20% {\n",
              "      border-color: transparent;\n",
              "      border-left-color: var(--fill-color);\n",
              "      border-top-color: var(--fill-color);\n",
              "    }\n",
              "    30% {\n",
              "      border-color: transparent;\n",
              "      border-left-color: var(--fill-color);\n",
              "      border-top-color: var(--fill-color);\n",
              "      border-right-color: var(--fill-color);\n",
              "    }\n",
              "    40% {\n",
              "      border-color: transparent;\n",
              "      border-right-color: var(--fill-color);\n",
              "      border-top-color: var(--fill-color);\n",
              "    }\n",
              "    60% {\n",
              "      border-color: transparent;\n",
              "      border-right-color: var(--fill-color);\n",
              "    }\n",
              "    80% {\n",
              "      border-color: transparent;\n",
              "      border-right-color: var(--fill-color);\n",
              "      border-bottom-color: var(--fill-color);\n",
              "    }\n",
              "    90% {\n",
              "      border-color: transparent;\n",
              "      border-bottom-color: var(--fill-color);\n",
              "    }\n",
              "  }\n",
              "</style>\n",
              "\n",
              "      <script>\n",
              "        async function quickchart(key) {\n",
              "          const quickchartButtonEl =\n",
              "            document.querySelector('#' + key + ' button');\n",
              "          quickchartButtonEl.disabled = true;  // To prevent multiple clicks.\n",
              "          quickchartButtonEl.classList.add('colab-df-spinner');\n",
              "          try {\n",
              "            const charts = await google.colab.kernel.invokeFunction(\n",
              "                'suggestCharts', [key], {});\n",
              "          } catch (error) {\n",
              "            console.error('Error during call to suggestCharts:', error);\n",
              "          }\n",
              "          quickchartButtonEl.classList.remove('colab-df-spinner');\n",
              "          quickchartButtonEl.classList.add('colab-df-quickchart-complete');\n",
              "        }\n",
              "        (() => {\n",
              "          let quickchartButtonEl =\n",
              "            document.querySelector('#df-a6889b17-d9e4-4fe7-8531-5fe6fe9b9805 button');\n",
              "          quickchartButtonEl.style.display =\n",
              "            google.colab.kernel.accessAllowed ? 'block' : 'none';\n",
              "        })();\n",
              "      </script>\n",
              "    </div>\n",
              "\n",
              "  <div id=\"id_d636fed7-9c16-4a63-951a-5ed48547bd22\">\n",
              "    <style>\n",
              "      .colab-df-generate {\n",
              "        background-color: #E8F0FE;\n",
              "        border: none;\n",
              "        border-radius: 50%;\n",
              "        cursor: pointer;\n",
              "        display: none;\n",
              "        fill: #1967D2;\n",
              "        height: 32px;\n",
              "        padding: 0 0 0 0;\n",
              "        width: 32px;\n",
              "      }\n",
              "\n",
              "      .colab-df-generate:hover {\n",
              "        background-color: #E2EBFA;\n",
              "        box-shadow: 0px 1px 2px rgba(60, 64, 67, 0.3), 0px 1px 3px 1px rgba(60, 64, 67, 0.15);\n",
              "        fill: #174EA6;\n",
              "      }\n",
              "\n",
              "      [theme=dark] .colab-df-generate {\n",
              "        background-color: #3B4455;\n",
              "        fill: #D2E3FC;\n",
              "      }\n",
              "\n",
              "      [theme=dark] .colab-df-generate:hover {\n",
              "        background-color: #434B5C;\n",
              "        box-shadow: 0px 1px 3px 1px rgba(0, 0, 0, 0.15);\n",
              "        filter: drop-shadow(0px 1px 2px rgba(0, 0, 0, 0.3));\n",
              "        fill: #FFFFFF;\n",
              "      }\n",
              "    </style>\n",
              "    <button class=\"colab-df-generate\" onclick=\"generateWithVariable('Tips')\"\n",
              "            title=\"Generate code using this dataframe.\"\n",
              "            style=\"display:none;\">\n",
              "\n",
              "  <svg xmlns=\"http://www.w3.org/2000/svg\" height=\"24px\"viewBox=\"0 0 24 24\"\n",
              "       width=\"24px\">\n",
              "    <path d=\"M7,19H8.4L18.45,9,17,7.55,7,17.6ZM5,21V16.75L18.45,3.32a2,2,0,0,1,2.83,0l1.4,1.43a1.91,1.91,0,0,1,.58,1.4,1.91,1.91,0,0,1-.58,1.4L9.25,21ZM18.45,9,17,7.55Zm-12,3A5.31,5.31,0,0,0,4.9,8.1,5.31,5.31,0,0,0,1,6.5,5.31,5.31,0,0,0,4.9,4.9,5.31,5.31,0,0,0,6.5,1,5.31,5.31,0,0,0,8.1,4.9,5.31,5.31,0,0,0,12,6.5,5.46,5.46,0,0,0,6.5,12Z\"/>\n",
              "  </svg>\n",
              "    </button>\n",
              "    <script>\n",
              "      (() => {\n",
              "      const buttonEl =\n",
              "        document.querySelector('#id_d636fed7-9c16-4a63-951a-5ed48547bd22 button.colab-df-generate');\n",
              "      buttonEl.style.display =\n",
              "        google.colab.kernel.accessAllowed ? 'block' : 'none';\n",
              "\n",
              "      buttonEl.onclick = () => {\n",
              "        google.colab.notebook.generateWithVariable('Tips');\n",
              "      }\n",
              "      })();\n",
              "    </script>\n",
              "  </div>\n",
              "\n",
              "    </div>\n",
              "  </div>\n"
            ],
            "application/vnd.google.colaboratory.intrinsic+json": {
              "type": "dataframe",
              "variable_name": "Tips",
              "summary": "{\n  \"name\": \"Tips\",\n  \"rows\": 10,\n  \"fields\": [\n    {\n      \"column\": \"total_bill\",\n      \"properties\": {\n        \"dtype\": \"number\",\n        \"std\": 6.457863509792624,\n        \"min\": 8.77,\n        \"max\": 26.88,\n        \"num_unique_values\": 10,\n        \"samples\": [\n          15.04,\n          10.34,\n          25.29\n        ],\n        \"semantic_type\": \"\",\n        \"description\": \"\"\n      }\n    },\n    {\n      \"column\": \"tip\",\n      \"properties\": {\n        \"dtype\": \"number\",\n        \"std\": 1.1150331335385908,\n        \"min\": 1.01,\n        \"max\": 4.71,\n        \"num_unique_values\": 10,\n        \"samples\": [\n          1.96,\n          1.66,\n          4.71\n        ],\n        \"semantic_type\": \"\",\n        \"description\": \"\"\n      }\n    },\n    {\n      \"column\": \"sex\",\n      \"properties\": {\n        \"dtype\": \"category\",\n        \"num_unique_values\": 2,\n        \"samples\": [\n          \"Male\",\n          \"Female\"\n        ],\n        \"semantic_type\": \"\",\n        \"description\": \"\"\n      }\n    },\n    {\n      \"column\": \"smoker\",\n      \"properties\": {\n        \"dtype\": \"category\",\n        \"num_unique_values\": 1,\n        \"samples\": [\n          \"No\"\n        ],\n        \"semantic_type\": \"\",\n        \"description\": \"\"\n      }\n    },\n    {\n      \"column\": \"day\",\n      \"properties\": {\n        \"dtype\": \"category\",\n        \"num_unique_values\": 1,\n        \"samples\": [\n          \"Sun\"\n        ],\n        \"semantic_type\": \"\",\n        \"description\": \"\"\n      }\n    },\n    {\n      \"column\": \"time\",\n      \"properties\": {\n        \"dtype\": \"category\",\n        \"num_unique_values\": 1,\n        \"samples\": [\n          \"Dinner\"\n        ],\n        \"semantic_type\": \"\",\n        \"description\": \"\"\n      }\n    },\n    {\n      \"column\": \"size\",\n      \"properties\": {\n        \"dtype\": \"number\",\n        \"std\": 0,\n        \"min\": 2,\n        \"max\": 4,\n        \"num_unique_values\": 3,\n        \"samples\": [\n          2\n        ],\n        \"semantic_type\": \"\",\n        \"description\": \"\"\n      }\n    },\n    {\n      \"column\": \"Double_Tip\",\n      \"properties\": {\n        \"dtype\": \"number\",\n        \"std\": 2.2300662670771816,\n        \"min\": 2.02,\n        \"max\": 9.42,\n        \"num_unique_values\": 10,\n        \"samples\": [\n          3.92\n        ],\n        \"semantic_type\": \"\",\n        \"description\": \"\"\n      }\n    }\n  ]\n}"
            }
          },
          "metadata": {},
          "execution_count": 32
        }
      ]
    },
    {
      "cell_type": "markdown",
      "source": [
        "**Question 7:** Write a program to perform element-wise multiplication of two NumPy arrays."
      ],
      "metadata": {
        "id": "rLHU4OuRYgWI"
      }
    },
    {
      "cell_type": "code",
      "source": [
        "NP_1 = np.random.randint(1, 25, (3,4))\n",
        "NP_2 = np.random.randint(26, 50, (3,4))\n",
        "\n",
        "NP_1 * NP_2"
      ],
      "metadata": {
        "colab": {
          "base_uri": "https://localhost:8080/"
        },
        "id": "Dzuz-a4ZYMdm",
        "outputId": "4930db1f-3e8d-4918-ca6d-06262b1b159b"
      },
      "execution_count": 34,
      "outputs": [
        {
          "output_type": "execute_result",
          "data": {
            "text/plain": [
              "array([[1056,  368,  836,  235],\n",
              "       [ 987,  442,  102,  481],\n",
              "       [ 230,  960,  940,  720]])"
            ]
          },
          "metadata": {},
          "execution_count": 34
        }
      ]
    },
    {
      "cell_type": "markdown",
      "source": [
        "**Question 8:**  Create a line plot with multiple lines using Matplotlib."
      ],
      "metadata": {
        "id": "R3bK5FkmeW00"
      }
    },
    {
      "cell_type": "code",
      "source": [
        "x = np.arange(0, 10, 1)\n",
        "y1 = x * 1\n",
        "y2 = x * 1.5 + 2\n",
        "y3 = x * 2 + 5\n",
        "\n",
        "plt.plot(x, y1, marker = \"x\", markersize = 4, linestyle = \"--\", label='Line 1')\n",
        "plt.plot(x, y2, marker = \"o\", markersize = 4, linestyle = \"-\", label='Line 2')\n",
        "plt.plot(x, y3, marker = \"*\", markersize = 4, label='Line 3')\n",
        "plt.grid()\n",
        "plt.legend()\n",
        "plt.xlabel('X-axis')\n",
        "plt.ylabel('Y-axis')\n",
        "plt.title('Multiple Line Plot')\n",
        "plt.show()\n"
      ],
      "metadata": {
        "colab": {
          "base_uri": "https://localhost:8080/",
          "height": 472
        },
        "id": "3MfQrLWvYyRV",
        "outputId": "a242c6e0-15df-4824-b5ab-1f21be0f5994"
      },
      "execution_count": 42,
      "outputs": [
        {
          "output_type": "display_data",
          "data": {
            "text/plain": [
              "<Figure size 640x480 with 1 Axes>"
            ],
            "image/png": "[encoded data removed]"
          },
          "metadata": {}
        }
      ]
    },
    {
      "cell_type": "markdown",
      "source": [
        "**Question 9:** Generate a Pandas DataFrame and filter rows where a column value is greater than a threshold.\n"
      ],
      "metadata": {
        "id": "Sy82PeiSf27h"
      }
    },
    {
      "cell_type": "code",
      "source": [
        "Data_Frame = pd.DataFrame({\n",
        "    'A': [5, 10, 15, 20, 25],\n",
        "    'B': [50, 40, 30, 20, 10],\n",
        "    'C': ['x', 'y', 'z', 'x', 'y']\n",
        "})\n",
        "\n",
        "filtered_df = Data_Frame[Data_Frame['A'] > 15]\n",
        "\n",
        "print(filtered_df)"
      ],
      "metadata": {
        "colab": {
          "base_uri": "https://localhost:8080/"
        },
        "id": "ycE82_2YfMPB",
        "outputId": "ef982a3a-7869-4e40-d35e-44b30092cea5"
      },
      "execution_count": 43,
      "outputs": [
        {
          "output_type": "stream",
          "name": "stdout",
          "text": [
            "    A   B  C\n",
            "3  20  20  x\n",
            "4  25  10  y\n"
          ]
        }
      ]
    },
    {
      "cell_type": "markdown",
      "source": [
        "**Question 10:** Create a histogram using Seaborn to visualize a distribution."
      ],
      "metadata": {
        "id": "399LRnnSgZyZ"
      }
    },
    {
      "cell_type": "code",
      "source": [
        "Flights = sns.load_dataset('flights')\n",
        "\n",
        "sns.histplot(Flights['passengers'], bins = 20, kde = True)"
      ],
      "metadata": {
        "colab": {
          "base_uri": "https://localhost:8080/",
          "height": 466
        },
        "id": "zUNGAaAggTe8",
        "outputId": "279415ee-fafb-4690-d27b-46161b6e0100"
      },
      "execution_count": 44,
      "outputs": [
        {
          "output_type": "execute_result",
          "data": {
            "text/plain": [
              "<Axes: xlabel='passengers', ylabel='Count'>"
            ]
          },
          "metadata": {},
          "execution_count": 44
        },
        {
          "output_type": "display_data",
          "data": {
            "text/plain": [
              "<Figure size 640x480 with 1 Axes>"
            ],
            "image/png": "[encoded data removed]"
          },
          "metadata": {}
        }
      ]
    },
    {
      "cell_type": "markdown",
      "source": [
        "**Question 11:**  Perform matrix multiplication using NumPy."
      ],
      "metadata": {
        "id": "0HVti7tehbHK"
      }
    },
    {
      "cell_type": "code",
      "source": [
        "A = np.array([[1, 2],\n",
        "              [3, 4]])\n",
        "B = np.array([[5, 6],\n",
        "              [7, 8]])\n",
        "\n",
        "A @ B"
      ],
      "metadata": {
        "colab": {
          "base_uri": "https://localhost:8080/"
        },
        "id": "B0rb5aB1hwHH",
        "outputId": "cc754237-bb07-411c-fa37-5d3a350e2008"
      },
      "execution_count": 46,
      "outputs": [
        {
          "output_type": "execute_result",
          "data": {
            "text/plain": [
              "array([[19, 22],\n",
              "       [43, 50]])"
            ]
          },
          "metadata": {},
          "execution_count": 46
        }
      ]
    },
    {
      "cell_type": "markdown",
      "source": [
        "**Question 12:** Use Pandas to load a CSV file and display its first 5 rows."
      ],
      "metadata": {
        "id": "rUG7yY-ViD34"
      }
    },
    {
      "cell_type": "code",
      "source": [
        "Random = pd.read_csv(\"day.csv\")\n",
        "Random.head()"
      ],
      "metadata": {
        "colab": {
          "base_uri": "https://localhost:8080/",
          "height": 206
        },
        "id": "b_kPjSr6h9AT",
        "outputId": "22f1894f-b22d-4bd4-d11f-0fc9578b78eb"
      },
      "execution_count": 49,
      "outputs": [
        {
          "output_type": "execute_result",
          "data": {
            "text/plain": [
              "   Numeric  Numeric-2 Numeric-Suffix\n",
              "0        1          1            1st\n",
              "1        2          2            2nd\n",
              "2        3          3            3rd\n",
              "3        4          4            4th\n",
              "4        5          5            5th"
            ],
            "text/html": [
              "\n",
              "  <div id=\"df-e6270482-ac12-427a-bcad-47121c740a87\" class=\"colab-df-container\">\n",
              "    <div>\n",
              "<style scoped>\n",
              "    .dataframe tbody tr th:only-of-type {\n",
              "        vertical-align: middle;\n",
              "    }\n",
              "\n",
              "    .dataframe tbody tr th {\n",
              "        vertical-align: top;\n",
              "    }\n",
              "\n",
              "    .dataframe thead th {\n",
              "        text-align: right;\n",
              "    }\n",
              "</style>\n",
              "<table border=\"1\" class=\"dataframe\">\n",
              "  <thead>\n",
              "    <tr style=\"text-align: right;\">\n",
              "      <th></th>\n",
              "      <th>Numeric</th>\n",
              "      <th>Numeric-2</th>\n",
              "      <th>Numeric-Suffix</th>\n",
              "    </tr>\n",
              "  </thead>\n",
              "  <tbody>\n",
              "    <tr>\n",
              "      <th>0</th>\n",
              "      <td>1</td>\n",
              "      <td>1</td>\n",
              "      <td>1st</td>\n",
              "    </tr>\n",
              "    <tr>\n",
              "      <th>1</th>\n",
              "      <td>2</td>\n",
              "      <td>2</td>\n",
              "      <td>2nd</td>\n",
              "    </tr>\n",
              "    <tr>\n",
              "      <th>2</th>\n",
              "      <td>3</td>\n",
              "      <td>3</td>\n",
              "      <td>3rd</td>\n",
              "    </tr>\n",
              "    <tr>\n",
              "      <th>3</th>\n",
              "      <td>4</td>\n",
              "      <td>4</td>\n",
              "      <td>4th</td>\n",
              "    </tr>\n",
              "    <tr>\n",
              "      <th>4</th>\n",
              "      <td>5</td>\n",
              "      <td>5</td>\n",
              "      <td>5th</td>\n",
              "    </tr>\n",
              "  </tbody>\n",
              "</table>\n",
              "</div>\n",
              "    <div class=\"colab-df-buttons\">\n",
              "\n",
              "  <div class=\"colab-df-container\">\n",
              "    <button class=\"colab-df-convert\" onclick=\"convertToInteractive('df-e6270482-ac12-427a-bcad-47121c740a87')\"\n",
              "            title=\"Convert this dataframe to an interactive table.\"\n",
              "            style=\"display:none;\">\n",
              "\n",
              "  <svg xmlns=\"http://www.w3.org/2000/svg\" height=\"24px\" viewBox=\"0 -960 960 960\">\n",
              "    <path d=\"M120-120v-720h720v720H120Zm60-500h600v-160H180v160Zm220 220h160v-160H400v160Zm0 220h160v-160H400v160ZM180-400h160v-160H180v160Zm440 0h160v-160H620v160ZM180-180h160v-160H180v160Zm440 0h160v-160H620v160Z\"/>\n",
              "  </svg>\n",
              "    </button>\n",
              "\n",
              "  <style>\n",
              "    .colab-df-container {\n",
              "      display:flex;\n",
              "      gap: 12px;\n",
              "    }\n",
              "\n",
              "    .colab-df-convert {\n",
              "      background-color: #E8F0FE;\n",
              "      border: none;\n",
              "      border-radius: 50%;\n",
              "      cursor: pointer;\n",
              "      display: none;\n",
              "      fill: #1967D2;\n",
              "      height: 32px;\n",
              "      padding: 0 0 0 0;\n",
              "      width: 32px;\n",
              "    }\n",
              "\n",
              "    .colab-df-convert:hover {\n",
              "      background-color: #E2EBFA;\n",
              "      box-shadow: 0px 1px 2px rgba(60, 64, 67, 0.3), 0px 1px 3px 1px rgba(60, 64, 67, 0.15);\n",
              "      fill: #174EA6;\n",
              "    }\n",
              "\n",
              "    .colab-df-buttons div {\n",
              "      margin-bottom: 4px;\n",
              "    }\n",
              "\n",
              "    [theme=dark] .colab-df-convert {\n",
              "      background-color: #3B4455;\n",
              "      fill: #D2E3FC;\n",
              "    }\n",
              "\n",
              "    [theme=dark] .colab-df-convert:hover {\n",
              "      background-color: #434B5C;\n",
              "      box-shadow: 0px 1px 3px 1px rgba(0, 0, 0, 0.15);\n",
              "      filter: drop-shadow(0px 1px 2px rgba(0, 0, 0, 0.3));\n",
              "      fill: #FFFFFF;\n",
              "    }\n",
              "  </style>\n",
              "\n",
              "    <script>\n",
              "      const buttonEl =\n",
              "        document.querySelector('#df-e6270482-ac12-427a-bcad-47121c740a87 button.colab-df-convert');\n",
              "      buttonEl.style.display =\n",
              "        google.colab.kernel.accessAllowed ? 'block' : 'none';\n",
              "\n",
              "      async function convertToInteractive(key) {\n",
              "        const element = document.querySelector('#df-e6270482-ac12-427a-bcad-47121c740a87');\n",
              "        const dataTable =\n",
              "          await google.colab.kernel.invokeFunction('convertToInteractive',\n",
              "                                                    [key], {});\n",
              "        if (!dataTable) return;\n",
              "\n",
              "        const docLinkHtml = 'Like what you see? Visit the ' +\n",
              "          '<a target=\"_blank\" href=https://colab.research.google.com/notebooks/data_table.ipynb>data table notebook</a>'\n",
              "          + ' to learn more about interactive tables.';\n",
              "        element.innerHTML = '';\n",
              "        dataTable['output_type'] = 'display_data';\n",
              "        await google.colab.output.renderOutput(dataTable, element);\n",
              "        const docLink = document.createElement('div');\n",
              "        docLink.innerHTML = docLinkHtml;\n",
              "        element.appendChild(docLink);\n",
              "      }\n",
              "    </script>\n",
              "  </div>\n",
              "\n",
              "\n",
              "    <div id=\"df-b13e4c21-2ada-42d2-b97a-8cb256507e6f\">\n",
              "      <button class=\"colab-df-quickchart\" onclick=\"quickchart('df-b13e4c21-2ada-42d2-b97a-8cb256507e6f')\"\n",
              "                title=\"Suggest charts\"\n",
              "                style=\"display:none;\">\n",
              "\n",
              "<svg xmlns=\"http://www.w3.org/2000/svg\" height=\"24px\"viewBox=\"0 0 24 24\"\n",
              "     width=\"24px\">\n",
              "    <g>\n",
              "        <path d=\"M19 3H5c-1.1 0-2 .9-2 2v14c0 1.1.9 2 2 2h14c1.1 0 2-.9 2-2V5c0-1.1-.9-2-2-2zM9 17H7v-7h2v7zm4 0h-2V7h2v10zm4 0h-2v-4h2v4z\"/>\n",
              "    </g>\n",
              "</svg>\n",
              "      </button>\n",
              "\n",
              "<style>\n",
              "  .colab-df-quickchart {\n",
              "      --bg-color: #E8F0FE;\n",
              "      --fill-color: #1967D2;\n",
              "      --hover-bg-color: #E2EBFA;\n",
              "      --hover-fill-color: #174EA6;\n",
              "      --disabled-fill-color: #AAA;\n",
              "      --disabled-bg-color: #DDD;\n",
              "  }\n",
              "\n",
              "  [theme=dark] .colab-df-quickchart {\n",
              "      --bg-color: #3B4455;\n",
              "      --fill-color: #D2E3FC;\n",
              "      --hover-bg-color: #434B5C;\n",
              "      --hover-fill-color: #FFFFFF;\n",
              "      --disabled-bg-color: #3B4455;\n",
              "      --disabled-fill-color: #666;\n",
              "  }\n",
              "\n",
              "  .colab-df-quickchart {\n",
              "    background-color: var(--bg-color);\n",
              "    border: none;\n",
              "    border-radius: 50%;\n",
              "    cursor: pointer;\n",
              "    display: none;\n",
              "    fill: var(--fill-color);\n",
              "    height: 32px;\n",
              "    padding: 0;\n",
              "    width: 32px;\n",
              "  }\n",
              "\n",
              "  .colab-df-quickchart:hover {\n",
              "    background-color: var(--hover-bg-color);\n",
              "    box-shadow: 0 1px 2px rgba(60, 64, 67, 0.3), 0 1px 3px 1px rgba(60, 64, 67, 0.15);\n",
              "    fill: var(--button-hover-fill-color);\n",
              "  }\n",
              "\n",
              "  .colab-df-quickchart-complete:disabled,\n",
              "  .colab-df-quickchart-complete:disabled:hover {\n",
              "    background-color: var(--disabled-bg-color);\n",
              "    fill: var(--disabled-fill-color);\n",
              "    box-shadow: none;\n",
              "  }\n",
              "\n",
              "  .colab-df-spinner {\n",
              "    border: 2px solid var(--fill-color);\n",
              "    border-color: transparent;\n",
              "    border-bottom-color: var(--fill-color);\n",
              "    animation:\n",
              "      spin 1s steps(1) infinite;\n",
              "  }\n",
              "\n",
              "  @keyframes spin {\n",
              "    0% {\n",
              "      border-color: transparent;\n",
              "      border-bottom-color: var(--fill-color);\n",
              "      border-left-color: var(--fill-color);\n",
              "    }\n",
              "    20% {\n",
              "      border-color: transparent;\n",
              "      border-left-color: var(--fill-color);\n",
              "      border-top-color: var(--fill-color);\n",
              "    }\n",
              "    30% {\n",
              "      border-color: transparent;\n",
              "      border-left-color: var(--fill-color);\n",
              "      border-top-color: var(--fill-color);\n",
              "      border-right-color: var(--fill-color);\n",
              "    }\n",
              "    40% {\n",
              "      border-color: transparent;\n",
              "      border-right-color: var(--fill-color);\n",
              "      border-top-color: var(--fill-color);\n",
              "    }\n",
              "    60% {\n",
              "      border-color: transparent;\n",
              "      border-right-color: var(--fill-color);\n",
              "    }\n",
              "    80% {\n",
              "      border-color: transparent;\n",
              "      border-right-color: var(--fill-color);\n",
              "      border-bottom-color: var(--fill-color);\n",
              "    }\n",
              "    90% {\n",
              "      border-color: transparent;\n",
              "      border-bottom-color: var(--fill-color);\n",
              "    }\n",
              "  }\n",
              "</style>\n",
              "\n",
              "      <script>\n",
              "        async function quickchart(key) {\n",
              "          const quickchartButtonEl =\n",
              "            document.querySelector('#' + key + ' button');\n",
              "          quickchartButtonEl.disabled = true;  // To prevent multiple clicks.\n",
              "          quickchartButtonEl.classList.add('colab-df-spinner');\n",
              "          try {\n",
              "            const charts = await google.colab.kernel.invokeFunction(\n",
              "                'suggestCharts', [key], {});\n",
              "          } catch (error) {\n",
              "            console.error('Error during call to suggestCharts:', error);\n",
              "          }\n",
              "          quickchartButtonEl.classList.remove('colab-df-spinner');\n",
              "          quickchartButtonEl.classList.add('colab-df-quickchart-complete');\n",
              "        }\n",
              "        (() => {\n",
              "          let quickchartButtonEl =\n",
              "            document.querySelector('#df-b13e4c21-2ada-42d2-b97a-8cb256507e6f button');\n",
              "          quickchartButtonEl.style.display =\n",
              "            google.colab.kernel.accessAllowed ? 'block' : 'none';\n",
              "        })();\n",
              "      </script>\n",
              "    </div>\n",
              "\n",
              "    </div>\n",
              "  </div>\n"
            ],
            "application/vnd.google.colaboratory.intrinsic+json": {
              "type": "dataframe",
              "variable_name": "Random",
              "summary": "{\n  \"name\": \"Random\",\n  \"rows\": 31,\n  \"fields\": [\n    {\n      \"column\": \"Numeric\",\n      \"properties\": {\n        \"dtype\": \"number\",\n        \"std\": 9,\n        \"min\": 1,\n        \"max\": 31,\n        \"num_unique_values\": 31,\n        \"samples\": [\n          28,\n          16,\n          24\n        ],\n        \"semantic_type\": \"\",\n        \"description\": \"\"\n      }\n    },\n    {\n      \"column\": \"Numeric-2\",\n      \"properties\": {\n        \"dtype\": \"number\",\n        \"std\": 9,\n        \"min\": 1,\n        \"max\": 31,\n        \"num_unique_values\": 31,\n        \"samples\": [\n          28,\n          16,\n          24\n        ],\n        \"semantic_type\": \"\",\n        \"description\": \"\"\n      }\n    },\n    {\n      \"column\": \"Numeric-Suffix\",\n      \"properties\": {\n        \"dtype\": \"string\",\n        \"num_unique_values\": 31,\n        \"samples\": [\n          \"28th\",\n          \"16th\",\n          \"24th\"\n        ],\n        \"semantic_type\": \"\",\n        \"description\": \"\"\n      }\n    }\n  ]\n}"
            }
          },
          "metadata": {},
          "execution_count": 49
        }
      ]
    },
    {
      "cell_type": "markdown",
      "source": [
        "**Question 13:** Create a 3D scatter plot using Plotly."
      ],
      "metadata": {
        "id": "qhb9qpTDifNY"
      }
    },
    {
      "cell_type": "code",
      "source": [
        "Planets = sns.load_dataset(\"planets\")\n",
        "Planets.head(10)"
      ],
      "metadata": {
        "colab": {
          "base_uri": "https://localhost:8080/",
          "height": 363
        },
        "id": "LFo9cnLFiZi4",
        "outputId": "03be12a4-3485-43c7-8131-b715ad34daaa"
      },
      "execution_count": 52,
      "outputs": [
        {
          "output_type": "execute_result",
          "data": {
            "text/plain": [
              "            method  number  orbital_period   mass  distance  year\n",
              "0  Radial Velocity       1         269.300   7.10     77.40  2006\n",
              "1  Radial Velocity       1         874.774   2.21     56.95  2008\n",
              "2  Radial Velocity       1         763.000   2.60     19.84  2011\n",
              "3  Radial Velocity       1         326.030  19.40    110.62  2007\n",
              "4  Radial Velocity       1         516.220  10.50    119.47  2009\n",
              "5  Radial Velocity       1         185.840   4.80     76.39  2008\n",
              "6  Radial Velocity       1        1773.400   4.64     18.15  2002\n",
              "7  Radial Velocity       1         798.500    NaN     21.41  1996\n",
              "8  Radial Velocity       1         993.300  10.30     73.10  2008\n",
              "9  Radial Velocity       2         452.800   1.99     74.79  2010"
            ],
            "text/html": [
              "\n",
              "  <div id=\"df-8e7e9277-f5b5-4036-9da3-b2a3e53ca481\" class=\"colab-df-container\">\n",
              "    <div>\n",
              "<style scoped>\n",
              "    .dataframe tbody tr th:only-of-type {\n",
              "        vertical-align: middle;\n",
              "    }\n",
              "\n",
              "    .dataframe tbody tr th {\n",
              "        vertical-align: top;\n",
              "    }\n",
              "\n",
              "    .dataframe thead th {\n",
              "        text-align: right;\n",
              "    }\n",
              "</style>\n",
              "<table border=\"1\" class=\"dataframe\">\n",
              "  <thead>\n",
              "    <tr style=\"text-align: right;\">\n",
              "      <th></th>\n",
              "      <th>method</th>\n",
              "      <th>number</th>\n",
              "      <th>orbital_period</th>\n",
              "      <th>mass</th>\n",
              "      <th>distance</th>\n",
              "      <th>year</th>\n",
              "    </tr>\n",
              "  </thead>\n",
              "  <tbody>\n",
              "    <tr>\n",
              "      <th>0</th>\n",
              "      <td>Radial Velocity</td>\n",
              "      <td>1</td>\n",
              "      <td>269.300</td>\n",
              "      <td>7.10</td>\n",
              "      <td>77.40</td>\n",
              "      <td>2006</td>\n",
              "    </tr>\n",
              "    <tr>\n",
              "      <th>1</th>\n",
              "      <td>Radial Velocity</td>\n",
              "      <td>1</td>\n",
              "      <td>874.774</td>\n",
              "      <td>2.21</td>\n",
              "      <td>56.95</td>\n",
              "      <td>2008</td>\n",
              "    </tr>\n",
              "    <tr>\n",
              "      <th>2</th>\n",
              "      <td>Radial Velocity</td>\n",
              "      <td>1</td>\n",
              "      <td>763.000</td>\n",
              "      <td>2.60</td>\n",
              "      <td>19.84</td>\n",
              "      <td>2011</td>\n",
              "    </tr>\n",
              "    <tr>\n",
              "      <th>3</th>\n",
              "      <td>Radial Velocity</td>\n",
              "      <td>1</td>\n",
              "      <td>326.030</td>\n",
              "      <td>19.40</td>\n",
              "      <td>110.62</td>\n",
              "      <td>2007</td>\n",
              "    </tr>\n",
              "    <tr>\n",
              "      <th>4</th>\n",
              "      <td>Radial Velocity</td>\n",
              "      <td>1</td>\n",
              "      <td>516.220</td>\n",
              "      <td>10.50</td>\n",
              "      <td>119.47</td>\n",
              "      <td>2009</td>\n",
              "    </tr>\n",
              "    <tr>\n",
              "      <th>5</th>\n",
              "      <td>Radial Velocity</td>\n",
              "      <td>1</td>\n",
              "      <td>185.840</td>\n",
              "      <td>4.80</td>\n",
              "      <td>76.39</td>\n",
              "      <td>2008</td>\n",
              "    </tr>\n",
              "    <tr>\n",
              "      <th>6</th>\n",
              "      <td>Radial Velocity</td>\n",
              "      <td>1</td>\n",
              "      <td>1773.400</td>\n",
              "      <td>4.64</td>\n",
              "      <td>18.15</td>\n",
              "      <td>2002</td>\n",
              "    </tr>\n",
              "    <tr>\n",
              "      <th>7</th>\n",
              "      <td>Radial Velocity</td>\n",
              "      <td>1</td>\n",
              "      <td>798.500</td>\n",
              "      <td>NaN</td>\n",
              "      <td>21.41</td>\n",
              "      <td>1996</td>\n",
              "    </tr>\n",
              "    <tr>\n",
              "      <th>8</th>\n",
              "      <td>Radial Velocity</td>\n",
              "      <td>1</td>\n",
              "      <td>993.300</td>\n",
              "      <td>10.30</td>\n",
              "      <td>73.10</td>\n",
              "      <td>2008</td>\n",
              "    </tr>\n",
              "    <tr>\n",
              "      <th>9</th>\n",
              "      <td>Radial Velocity</td>\n",
              "      <td>2</td>\n",
              "      <td>452.800</td>\n",
              "      <td>1.99</td>\n",
              "      <td>74.79</td>\n",
              "      <td>2010</td>\n",
              "    </tr>\n",
              "  </tbody>\n",
              "</table>\n",
              "</div>\n",
              "    <div class=\"colab-df-buttons\">\n",
              "\n",
              "  <div class=\"colab-df-container\">\n",
              "    <button class=\"colab-df-convert\" onclick=\"convertToInteractive('df-8e7e9277-f5b5-4036-9da3-b2a3e53ca481')\"\n",
              "            title=\"Convert this dataframe to an interactive table.\"\n",
              "            style=\"display:none;\">\n",
              "\n",
              "  <svg xmlns=\"http://www.w3.org/2000/svg\" height=\"24px\" viewBox=\"0 -960 960 960\">\n",
              "    <path d=\"M120-120v-720h720v720H120Zm60-500h600v-160H180v160Zm220 220h160v-160H400v160Zm0 220h160v-160H400v160ZM180-400h160v-160H180v160Zm440 0h160v-160H620v160ZM180-180h160v-160H180v160Zm440 0h160v-160H620v160Z\"/>\n",
              "  </svg>\n",
              "    </button>\n",
              "\n",
              "  <style>\n",
              "    .colab-df-container {\n",
              "      display:flex;\n",
              "      gap: 12px;\n",
              "    }\n",
              "\n",
              "    .colab-df-convert {\n",
              "      background-color: #E8F0FE;\n",
              "      border: none;\n",
              "      border-radius: 50%;\n",
              "      cursor: pointer;\n",
              "      display: none;\n",
              "      fill: #1967D2;\n",
              "      height: 32px;\n",
              "      padding: 0 0 0 0;\n",
              "      width: 32px;\n",
              "    }\n",
              "\n",
              "    .colab-df-convert:hover {\n",
              "      background-color: #E2EBFA;\n",
              "      box-shadow: 0px 1px 2px rgba(60, 64, 67, 0.3), 0px 1px 3px 1px rgba(60, 64, 67, 0.15);\n",
              "      fill: #174EA6;\n",
              "    }\n",
              "\n",
              "    .colab-df-buttons div {\n",
              "      margin-bottom: 4px;\n",
              "    }\n",
              "\n",
              "    [theme=dark] .colab-df-convert {\n",
              "      background-color: #3B4455;\n",
              "      fill: #D2E3FC;\n",
              "    }\n",
              "\n",
              "    [theme=dark] .colab-df-convert:hover {\n",
              "      background-color: #434B5C;\n",
              "      box-shadow: 0px 1px 3px 1px rgba(0, 0, 0, 0.15);\n",
              "      filter: drop-shadow(0px 1px 2px rgba(0, 0, 0, 0.3));\n",
              "      fill: #FFFFFF;\n",
              "    }\n",
              "  </style>\n",
              "\n",
              "    <script>\n",
              "      const buttonEl =\n",
              "        document.querySelector('#df-8e7e9277-f5b5-4036-9da3-b2a3e53ca481 button.colab-df-convert');\n",
              "      buttonEl.style.display =\n",
              "        google.colab.kernel.accessAllowed ? 'block' : 'none';\n",
              "\n",
              "      async function convertToInteractive(key) {\n",
              "        const element = document.querySelector('#df-8e7e9277-f5b5-4036-9da3-b2a3e53ca481');\n",
              "        const dataTable =\n",
              "          await google.colab.kernel.invokeFunction('convertToInteractive',\n",
              "                                                    [key], {});\n",
              "        if (!dataTable) return;\n",
              "\n",
              "        const docLinkHtml = 'Like what you see? Visit the ' +\n",
              "          '<a target=\"_blank\" href=https://colab.research.google.com/notebooks/data_table.ipynb>data table notebook</a>'\n",
              "          + ' to learn more about interactive tables.';\n",
              "        element.innerHTML = '';\n",
              "        dataTable['output_type'] = 'display_data';\n",
              "        await google.colab.output.renderOutput(dataTable, element);\n",
              "        const docLink = document.createElement('div');\n",
              "        docLink.innerHTML = docLinkHtml;\n",
              "        element.appendChild(docLink);\n",
              "      }\n",
              "    </script>\n",
              "  </div>\n",
              "\n",
              "\n",
              "    <div id=\"df-6101ca60-eaaf-4626-8589-9ccc83c22faf\">\n",
              "      <button class=\"colab-df-quickchart\" onclick=\"quickchart('df-6101ca60-eaaf-4626-8589-9ccc83c22faf')\"\n",
              "                title=\"Suggest charts\"\n",
              "                style=\"display:none;\">\n",
              "\n",
              "<svg xmlns=\"http://www.w3.org/2000/svg\" height=\"24px\"viewBox=\"0 0 24 24\"\n",
              "     width=\"24px\">\n",
              "    <g>\n",
              "        <path d=\"M19 3H5c-1.1 0-2 .9-2 2v14c0 1.1.9 2 2 2h14c1.1 0 2-.9 2-2V5c0-1.1-.9-2-2-2zM9 17H7v-7h2v7zm4 0h-2V7h2v10zm4 0h-2v-4h2v4z\"/>\n",
              "    </g>\n",
              "</svg>\n",
              "      </button>\n",
              "\n",
              "<style>\n",
              "  .colab-df-quickchart {\n",
              "      --bg-color: #E8F0FE;\n",
              "      --fill-color: #1967D2;\n",
              "      --hover-bg-color: #E2EBFA;\n",
              "      --hover-fill-color: #174EA6;\n",
              "      --disabled-fill-color: #AAA;\n",
              "      --disabled-bg-color: #DDD;\n",
              "  }\n",
              "\n",
              "  [theme=dark] .colab-df-quickchart {\n",
              "      --bg-color: #3B4455;\n",
              "      --fill-color: #D2E3FC;\n",
              "      --hover-bg-color: #434B5C;\n",
              "      --hover-fill-color: #FFFFFF;\n",
              "      --disabled-bg-color: #3B4455;\n",
              "      --disabled-fill-color: #666;\n",
              "  }\n",
              "\n",
              "  .colab-df-quickchart {\n",
              "    background-color: var(--bg-color);\n",
              "    border: none;\n",
              "    border-radius: 50%;\n",
              "    cursor: pointer;\n",
              "    display: none;\n",
              "    fill: var(--fill-color);\n",
              "    height: 32px;\n",
              "    padding: 0;\n",
              "    width: 32px;\n",
              "  }\n",
              "\n",
              "  .colab-df-quickchart:hover {\n",
              "    background-color: var(--hover-bg-color);\n",
              "    box-shadow: 0 1px 2px rgba(60, 64, 67, 0.3), 0 1px 3px 1px rgba(60, 64, 67, 0.15);\n",
              "    fill: var(--button-hover-fill-color);\n",
              "  }\n",
              "\n",
              "  .colab-df-quickchart-complete:disabled,\n",
              "  .colab-df-quickchart-complete:disabled:hover {\n",
              "    background-color: var(--disabled-bg-color);\n",
              "    fill: var(--disabled-fill-color);\n",
              "    box-shadow: none;\n",
              "  }\n",
              "\n",
              "  .colab-df-spinner {\n",
              "    border: 2px solid var(--fill-color);\n",
              "    border-color: transparent;\n",
              "    border-bottom-color: var(--fill-color);\n",
              "    animation:\n",
              "      spin 1s steps(1) infinite;\n",
              "  }\n",
              "\n",
              "  @keyframes spin {\n",
              "    0% {\n",
              "      border-color: transparent;\n",
              "      border-bottom-color: var(--fill-color);\n",
              "      border-left-color: var(--fill-color);\n",
              "    }\n",
              "    20% {\n",
              "      border-color: transparent;\n",
              "      border-left-color: var(--fill-color);\n",
              "      border-top-color: var(--fill-color);\n",
              "    }\n",
              "    30% {\n",
              "      border-color: transparent;\n",
              "      border-left-color: var(--fill-color);\n",
              "      border-top-color: var(--fill-color);\n",
              "      border-right-color: var(--fill-color);\n",
              "    }\n",
              "    40% {\n",
              "      border-color: transparent;\n",
              "      border-right-color: var(--fill-color);\n",
              "      border-top-color: var(--fill-color);\n",
              "    }\n",
              "    60% {\n",
              "      border-color: transparent;\n",
              "      border-right-color: var(--fill-color);\n",
              "    }\n",
              "    80% {\n",
              "      border-color: transparent;\n",
              "      border-right-color: var(--fill-color);\n",
              "      border-bottom-color: var(--fill-color);\n",
              "    }\n",
              "    90% {\n",
              "      border-color: transparent;\n",
              "      border-bottom-color: var(--fill-color);\n",
              "    }\n",
              "  }\n",
              "</style>\n",
              "\n",
              "      <script>\n",
              "        async function quickchart(key) {\n",
              "          const quickchartButtonEl =\n",
              "            document.querySelector('#' + key + ' button');\n",
              "          quickchartButtonEl.disabled = true;  // To prevent multiple clicks.\n",
              "          quickchartButtonEl.classList.add('colab-df-spinner');\n",
              "          try {\n",
              "            const charts = await google.colab.kernel.invokeFunction(\n",
              "                'suggestCharts', [key], {});\n",
              "          } catch (error) {\n",
              "            console.error('Error during call to suggestCharts:', error);\n",
              "          }\n",
              "          quickchartButtonEl.classList.remove('colab-df-spinner');\n",
              "          quickchartButtonEl.classList.add('colab-df-quickchart-complete');\n",
              "        }\n",
              "        (() => {\n",
              "          let quickchartButtonEl =\n",
              "            document.querySelector('#df-6101ca60-eaaf-4626-8589-9ccc83c22faf button');\n",
              "          quickchartButtonEl.style.display =\n",
              "            google.colab.kernel.accessAllowed ? 'block' : 'none';\n",
              "        })();\n",
              "      </script>\n",
              "    </div>\n",
              "\n",
              "    </div>\n",
              "  </div>\n"
            ],
            "application/vnd.google.colaboratory.intrinsic+json": {
              "type": "dataframe",
              "variable_name": "Planets",
              "summary": "{\n  \"name\": \"Planets\",\n  \"rows\": 1035,\n  \"fields\": [\n    {\n      \"column\": \"method\",\n      \"properties\": {\n        \"dtype\": \"category\",\n        \"num_unique_values\": 10,\n        \"samples\": [\n          \"Pulsar Timing\",\n          \"Imaging\",\n          \"Transit Timing Variations\"\n        ],\n        \"semantic_type\": \"\",\n        \"description\": \"\"\n      }\n    },\n    {\n      \"column\": \"number\",\n      \"properties\": {\n        \"dtype\": \"number\",\n        \"std\": 1,\n        \"min\": 1,\n        \"max\": 7,\n        \"num_unique_values\": 7,\n        \"samples\": [\n          1,\n          2,\n          6\n        ],\n        \"semantic_type\": \"\",\n        \"description\": \"\"\n      }\n    },\n    {\n      \"column\": \"orbital_period\",\n      \"properties\": {\n        \"dtype\": \"number\",\n        \"std\": 26014.72830406252,\n        \"min\": 0.09070629,\n        \"max\": 730000.0,\n        \"num_unique_values\": 988,\n        \"samples\": [\n          192.9,\n          152.6,\n          1314.0\n        ],\n        \"semantic_type\": \"\",\n        \"description\": \"\"\n      }\n    },\n    {\n      \"column\": \"mass\",\n      \"properties\": {\n        \"dtype\": \"number\",\n        \"std\": 3.8186166509616046,\n        \"min\": 0.0036,\n        \"max\": 25.0,\n        \"num_unique_values\": 381,\n        \"samples\": [\n          1.24,\n          7.0,\n          0.027\n        ],\n        \"semantic_type\": \"\",\n        \"description\": \"\"\n      }\n    },\n    {\n      \"column\": \"distance\",\n      \"properties\": {\n        \"dtype\": \"number\",\n        \"std\": 733.1164929404422,\n        \"min\": 1.35,\n        \"max\": 8500.0,\n        \"num_unique_values\": 552,\n        \"samples\": [\n          10.1,\n          9.04,\n          7.01\n        ],\n        \"semantic_type\": \"\",\n        \"description\": \"\"\n      }\n    },\n    {\n      \"column\": \"year\",\n      \"properties\": {\n        \"dtype\": \"number\",\n        \"std\": 3,\n        \"min\": 1989,\n        \"max\": 2014,\n        \"num_unique_values\": 23,\n        \"samples\": [\n          2003,\n          1995,\n          2006\n        ],\n        \"semantic_type\": \"\",\n        \"description\": \"\"\n      }\n    }\n  ]\n}"
            }
          },
          "metadata": {},
          "execution_count": 52
        }
      ]
    },
    {
      "cell_type": "code",
      "source": [
        "fig = go.Figure()\n",
        "fig.add_trace(go.Scatter3d(x=Planets['distance'], y=Planets['orbital_period'], z=Planets['mass'], mode='markers'))"
      ],
      "metadata": {
        "colab": {
          "base_uri": "https://localhost:8080/",
          "height": 542
        },
        "id": "lm9YsqcAi9-p",
        "outputId": "cc39f24d-0925-408c-ffa8-f323415e0b10"
      },
      "execution_count": 53,
      "outputs": [
        {
          "output_type": "display_data",
          "data": {
            "text/html": [
              "<html>\n",
              "<head><meta charset=\"utf-8\" /></head>\n",
              "<body>\n",
              "    <div>            <script src=\"https://cdnjs.cloudflare.com/ajax/libs/mathjax/2.7.5/MathJax.js?config=TeX-AMS-MML_SVG\"></script><script type=\"text/javascript\">if (window.MathJax && window.MathJax.Hub && window.MathJax.Hub.Config) {window.MathJax.Hub.Config({SVG: {font: \"STIX-Web\"}});}</script>                <script type=\"text/javascript\">window.PlotlyConfig = {MathJaxConfig: 'local'};</script>\n",
              "        <script charset=\"utf-8\" src=\"https://cdn.plot.ly/plotly-2.35.2.min.js\"></script>                <div id=\"4a368a33-d745-492c-a5d7-09b104ab4155\" class=\"plotly-graph-div\" style=\"height:525px; width:100%;\"></div>            <script type=\"text/javascript\">                                    window.PLOTLYENV=window.PLOTLYENV || {};                                    if (document.getElementById(\"4a368a33-d745-492c-a5d7-09b104ab4155\")) {                    Plotly.newPlot(                        \"4a368a33-d745-492c-a5d7-09b104ab4155\",                        [{\"mode\":\"markers\",\"x\":[77.4,56.95,19.84,110.62,119.47,76.39,18.15,21.41,73.1,74.79,74.79,39.43,97.28,14.08,14.08,14.08,15.36,12.53,12.53,12.53,12.53,12.53,8.52,8.52,8.52,18.11,81.5,97.18,45.52,45.52,165.0,140.0,null,null,145.0,139.0,18.39,130.72,130.72,500.0,500.0,null,null,null,null,20.21,1.35,19.28,3.22,70.42,47.53,38.52,13.79,31.12,52.03,62.66,46.84,46.84,80.64,84.03,56.31,17.43,15.6,92.51,13.47,13.47,13.47,13.47,7.69,145.0,36.0,140.0,12.21,52.4,25.0,26.67,37.54,null,80.0,42.09,42.09,20.1,20.1,50.03,175.44,null,null,null,null,23.1,null,null,200.0,680.0,null,null,null,150.0,150.0,380.0,460.0,345.0,560.0,1150.0,1060.0,1340.0,840.0,920.0,870.0,770.0,1230.0,600.0,null,20.77,10.91,14.97,14.97,14.97,12.12,15.1,15.1,20.03,9.04,10.23,17.95,6.27,6.27,6.27,6.27,10.32,6.8,6.8,6.8,6.8,6.8,6.8,4.54,16.13,16.13,16.13,4.94,8.77,4.7,4.7,4.7,4.7,null,17.62,25.2,19.8,145.0,139.0,135.32,138.0,314.0,342.0,261.0,230.0,480.0,142.5,214.0,214.0,205.0,190.0,235.0,90.0,90.0,166.0,215.0,70.0,254.0,82.0,393.0,396.0,297.0,134.0,204.0,395.0,322.0,193.0,354.0,354.0,283.0,387.0,257.0,535.0,317.0,411.0,249.0,642.0,501.0,344.0,447.0,542.0,322.0,303.0,360.0,453.0,25.64,25.64,23.44,23.44,167.5,7.01,89.85,53.71,115.21,11.11,44.05,32.7,21.85,77.82,131.41,56.5,56.5,100.0,53.28,58.17,150.6,40.32,55.01,35.88,38.52,38.52,16.82,56.34,44.15,38.26,52.85,52.85,39.39,39.39,39.39,39.39,39.39,39.39,17.35,32.56,53.82,53.82,66.49,33.98,33.98,37.16,37.16,300.3,28.6,28.6,66.89,66.89,45.52,35.91,25.54,59.84,50.18,null,78.25,127.88,22.38,43.08,43.08,27.13,6.06,6.06,6.06,35.89,35.89,36.02,44.5,32.31,32.31,89.13,34.6,31.79,51.97,46.51,56.05,18.24,44.54,42.37,56.18,39.56,168.92,54.71,26.5,121.07,53.82,38.01,38.01,38.01,136.8,86.88,117.37,45.01,20.98,37.78,33.24,33.24,33.24,18.21,42.88,42.88,25.59,25.59,25.59,42.43,42.43,99.4,15.56,12.83,12.83,12.83,12.83,12.83,12.83,33.33,43.03,43.03,52.03,52.03,54.94,37.05,93.2,50.43,22.04,32.58,32.58,48.95,36.14,33.41,37.84,37.84,121.36,121.36,87.41,40.73,47.26,31.03,34.07,34.07,28.07,92.51,25.7,25.7,35.8,10.34,32.62,35.59,35.59,80.06,55.04,58.82,12.58,12.58,12.58,null,28.76,51.36,53.05,36.52,94.61,94.61,96.99,64.56,64.56,64.56,28.94,80.58,59.7,41.27,48.64,29.04,32.56,88.26,27.46,27.46,112.23,43.53,33.96,11.15,91.16,42.48,72.57,18.06,74.46,30.88,38.99,22.09,32.32,28.9,42.52,42.52,91.57,149.03,132.8,84.03,221.24,26.21,26.21,21.3,150.38,42.77,60.46,17.99,17.99,130.89,140.85,52.8,30.5,42.0,28.98,164.2,164.2,9.24,138.5,121.07,49.33,53.08,20.82,102.04,37.44,87.87,36.36,91.83,51.26,38.56,138.5,68.54,68.54,65.62,56.92,56.92,59.03,97.66,28.88,37.42,15.71,15.71,28.04,28.04,20.48,40.57,20.43,35.0,110.62,33.01,38.02,88.57,97.66,44.37,133.16,52.83,52.83,52.83,27.45,68.35,38.05,16.57,16.57,67.61,29.76,121.36,57.21,70.97,98.52,24.15,24.15,25.65,25.65,26.91,26.91,26.91,106.38,14.56,14.56,14.56,38.45,121.36,33.46,35.87,106.38,34.57,59.35,126.1,55.19,42.68,42.68,12.87,53.05,59.28,78.86,63.49,76.51,29.55,85.18,182.82,51.87,18.08,18.06,65.79,68.54,68.54,43.4,43.4,35.37,55.1,24.05,49.0,33.48,114.15,68.59,68.59,52.72,52.72,15.28,15.28,15.28,15.28,31.26,69.44,69.44,51.81,37.98,21.92,42.99,50.0,37.88,37.88,43.12,36.32,36.32,64.98,null,44.05,134.95,67.02,127.55,14.98,59.03,59.03,46.73,63.69,27.05,131.75,114.55,115.47,26.15,26.15,26.15,55.93,52.83,52.83,47.37,44.98,47.92,47.92,52.63,17.72,19.25,62.11,15.89,15.89,54.23,189.39,19.89,8.82,8.82,67.39,37.35,46.93,43.57,32.99,32.83,68.35,68.35,46.34,46.34,40.85,47.3,47.3,47.3,26.95,90.33,170.07,55.31,55.31,43.99,352.11,47.08,21.29,55.93,52.72,121.8,40.75,21.52,21.52,38.64,38.64,43.53,43.53,33.29,26.52,37.89,19.72,19.72,54.92,29.94,29.2,null,81.1,289.02,45.23,48.43,52.88,50.45,41.95,94.07,108.46,null,null,307.69,54.92,9.42,50.2,44.8,44.8,23.8,223.21,52.88,52.88,52.88,11.03,25.87,25.87,25.87,11.43,149.25,23.98,31.33,131.93,14.9,44.46,17.24,39.94,39.94,39.94,39.94,262.0,124.22,178.0,222.0,213.0,320.0,38.0,550.0,null,null,null,1330.0,650.0,650.0,650.0,173.0,173.0,613.0,613.0,613.0,613.0,613.0,613.0,600.0,null,980.0,null,61.0,800.0,null,null,null,2119.0,2119.0,290.0,290.0,290.0,290.0,290.0,108.0,190.0,800.0,800.0,1200.0,1200.0,null,null,null,null,null,null,null,null,null,1400.0,1400.0,1400.0,1400.0,1400.0,2100.0,2100.0,303.0,303.0,303.0,303.0,303.0,null,null,null,null,null,1499.0,1645.0,470.0,470.0,66.0,66.0,66.0,600.0,1200.0,2700.0,770.0,38.7,38.7,38.7,1950.0,2250.0,333.0,855.0,855.0,1500.0,1500.0,null,null,null,null,null,null,null,null,null,null,null,null,null,null,null,null,null,null,null,null,null,null,null,null,null,null,null,null,null,null,null,368.0,368.0,368.0,368.0,368.0,200.0,1000.0,null,null,null,1107.0,1107.0,135.0,135.0,135.0,null,null,1180.0,1180.0,800.0,1330.0,1140.0,null,570.0,null,null,null,null,null,null,null,null,null,null,null,null,null,null,null,null,null,null,339.0,339.0,null,null,null,null,780.0,780.0,780.0,780.0,780.0,780.0,780.0,1030.0,null,null,null,null,null,null,null,null,null,null,null,null,null,null,null,null,null,null,null,null,null,null,null,null,null,null,null,null,null,null,null,null,null,null,null,null,null,null,null,null,null,null,null,null,null,null,null,null,null,null,null,null,null,null,null,null,null,null,null,null,null,null,null,null,null,null,null,null,null,null,132.0,null,1056.0,null,null,2000.0,null,null,null,3600.0,null,null,null,2300.0,2800.0,7720.0,7560.0,null,null,null,null,null,null,null,null,null,null,null,2570.0,4080.0,4080.0,1760.0,4970.0,null,null,null,null,600.0,2500.0,null,null,null,1200.0,null,null,null,null,null,null,1200.0,null,null,135.0,120.0,null,8500.0,8500.0,152.3,228.0,492.0,360.0,null,null,408.0,147.0,220.0,300.0,300.0,null,140.0,87.0,90.0,121.7,null,155.0,160.0,null,null,400.0,105.49,250.0,242.0,300.0,null,null,null,250.0,null,70.0,360.0,null,116.14,120.0,null,450.0,343.0,110.0,230.0,180.0,160.0,80.0,null,null,null,200.0,null,170.0,230.0,140.0,200.0,330.0,255.0,455.0,300.0,125.0,400.0,480.0,160.0,330.0,350.0,310.0,380.0,225.0,345.0,340.0,260.0,93.0,550.0,240.0,60.0,470.0,19.2,3200.0,10.1,172.0,148.0,174.0,293.0,260.0],\"y\":[269.3,874.774,763.0,326.03,516.22,185.84,1773.4,798.5,993.3,452.8,883.0,335.1,479.1,1078.0,2391.0,14002.0,4.230785,14.651,44.38,4909.0,0.73654,261.2,4.215,38.021,123.01,116.6884,691.9,952.7,181.4,null,null,null,10220.0,null,null,null,null,5767.0,3321.0,5573.55,2883.5,2900.0,4343.5,5840.0,1916.25,380.8,3.2357,6000.0,2502.0,417.9,594.9,428.5,903.3,1251.0,null,136.75,530.32,3186.0,277.02,187.83,1630.0,39.845,3.3135,305.5,4.617033,241.258,1276.46,3848.86,318280.0,null,null,null,4639.15,null,7336.5,8679.7,655.6,714.3,3.48777,5.6,237.6,3.8728,125.94,268.94,137.48,379.63,621.99,578.2,392.6,10037.5,null,1.5089557,1.7429935,4.2568,9.20205,4.0378962,8.886593,0.853585,3.698,6.21229,95.2738,13.2406,2.99433,2.828042,4.03519,1.51214,5.35227,3.7681,1.9000693,3.89713,9.24285,3.6313,3.57532,246.36,15.76491,8.631,25.6,603.0,2288.0,692.0,7100.0,4100.0,7.3709,2.64385,null,5.36874,12.9292,66.8,3.14942,598.3,7.2004,28.14,91.61,62.24,39.026,256.2,4.6938,1050.3,3.6,35.37,3416.0,1845.0,61.1166,30.0881,1.93778,124.26,1.58040482,133.71,3.33714,2.64561,null,4.4652934,5.6334729,2.899736,3.056536,2.788491,3.852985,3.0763776,3.92289,3.2130598,2.91626,428.5,4.627669,10.863502,2.77596,10.338523,5584.0,5.508023,4.008778,2.875317,4.124481,3.21222,1.212884,3.35524,3.652836,4.234516,3.039577,3.257215,5.723186,2.810595,5.005425,1022.0,2.150008,3.474474,5.452654,3.646706,1.327347,2.797436,4.640382,3.54387,4.457243,2.694047,4.641878,3.332687,2.691548,3.446459,1.354133,3.547851,349.7,6005.0,5.7727,13.505,431.8,533.0,1183.0,3.4442,311.6,62.218,526.62,829.0,15.609,431.88,356.0,360.2,2732.0,675.0,777.0,792.6,177.11,22.09,2496.0,615.0,1275.0,4046.0,5.3978,1313.0,227.0,1634.0,30.052,192.9,5.75962,16.3567,49.747,122.72,602.0,2248.0,989.2,1075.2,1270.2,170.455,711.0,1945.0,37.91,262.709,1708.0,471.6,14.182,53.832,19.382,931.0,4218.0,75.523,17.24,990.0,465.1,359.9,21.21663,772.0,466.2,11.849,33.823,500.0,18.315,40.114,90.309,29.15,85.131,591.9,380.85,22.656,53.881,1214.0,738.459,528.07,1561.0,3668.0,1845.0,423.841,2208.0,17.991,1117.0,385.9,387.1,2819.654,1159.2,912.0,466.0,16.546,51.284,274.49,326.6,18.179,157.54,1049.0,388.0,363.2,154.46,2295.0,843.6,2063.818,55.0,2720.0,5.6363,14.025,33.941,14.3098,2140.2,696.3,407.15,4.3123,9.6184,20.432,34.62,51.76,197.8,264.15,963.0,1.3283,18.357,25.648,327.8,2371.0,36.96,472.0,5.8872,226.93,342.85,890.76,43.6,3.024,4.0845,1353.6,430.0,2500.0,700.0,4.9437,2582.7,1279.0,14.07,95.415,118.96,303.0,201.83,607.06,2.817822,589.64,358.0,572.4,152.6,480.5,1973.0,6.276,8.667,31.56,197.0,851.8,2231.0,3383.0,1260.0,2.54858,188.9,379.1,1800.0,51.645,2473.0,346.6,3.51,418.2,3.971,5.7361,1966.1,111.4357,1001.7,184.02,441.47,220.078,705.0,2.985625,788.0,58.43,2.1375,1695.0,1475.0,2754.0,3.416,2157.0,256.78,49.77,325.81,143.58,13.186,46.025,null,507.0,361.1,498.9,647.3,8.1256,103.49,9.494,436.9,4951.0,439.3,17.054,4970.0,868.0,157.57,383.7,70.46,20.8133,4.113775,127.58,520.0,122.1,778.1,6.495,47.84,5.8881,55.806,199.505,1531.0,2890.0,3630.0,null,48.056,10.8985,443.4,395.8,1624.0,68.27,7.8543,30.93,5.24,835.477,1143.0,324.0,263.3,1657.0,937.7,1046.0,3827.0,83.888,493.7,1114.0,670.0,2597.0,25.827,6.1335,2082.0,63.33,344.95,559.4,4.1547,3008.0,9.6737,1244.0,948.12,454.2,923.8,1840.0,10.7085,883.0,1951.0,974.0,1544.0,3.27,1160.9,258.19,5000.0,12.083,59.519,459.26,464.3,11.577,27.582,106.72,330.0,1125.7,653.22,1928.0,1299.0,386.3,1057.0,176.3,103.95,44.236,1008.0,528.4,1027.0,331.5,2.8758911,4.072,2.391,1096.2,2097.0,689.0,499.4,18.596,3342.0,163.9,408.6,3452.0,194.3,391.9,131.05,842.0,4.6455,359.5546,104.84,521.0,12.62,248.4,1178.4,352.3,643.25,4205.8,9.6386,310.55,8.428198,75.29,1314.0,282.4,606.4,1155.0,5144.0,420.77,58.11289,1749.5,6.403,225.62,2102.0,1145.0,538.0,1523.0,323.6,1290.0,297.3,1016.0,406.6,110.9,71.484,14.476,3.0925,396.03,479.0,663.0,9.3743,962.0,2172.0,956.0,634.23,2950.0,6.838,986.0,3.097,3810.0,456.46,14.275,2.21857578,1136.1,2891.0,17.1,1038.1,4885.0,24.348,74.72,525.8,351.5,18.20163,1289.0,3638.0,1333.0,1035.7,613.8,825.0,255.87,1383.4,null,1931.0,34.873,2831.6,1733.0,279.8,610.0,161.97,1155.7,123.0,875.5,3.52474859,442.1,354.8,2.245715,373.3,951.0,7.2825,10.866,191.99,2277.0,3.93,567.0,1311.0,1294.0,118.45,7.126816,4270.0,1319.0,225.7,5501.0,2093.3,3.8335,672.1,2209.0,3724.7,456.1,3999.0,572.38,26.73,141.6,192.0,501.75,745.7,2443.0,8.7836,3.369,345.72,9017.8,57.0,16.2,6.673855,147.73,952.0,41.397,8.1352,32.03,431.7,null,124.6,17337.5,511.098,null,111.7,5.0505,311.288,170000.0,69000.0,37000.0,18000.0,1.217514,4.1137912,2.7033904,7.8457,2.47063,2.204737,4.8878162,3.21346,3.54846,3.234723,4.885525,3.52254,19.24,38.91,1.592851,0.837495,45.29485,10.3039,13.0241,22.6845,31.9996,46.6888,118.3807,4.4379637,1.7635892,6.790123,4.942782,228.776,1.4857108,3.504725,7.64159,14.85888,9.2869944,160.0,3.6961219,10.854092,77.61184,6.098493,19.57706,2.785755,289.8623,7.1073,10.7421,8.1453,12.3335,6.2385,12.7204,123.0,12.2829,17.2513,15.3348,31.3309,5.9123,8.9858,10.3376,13.2907,29.33434,60.323105,143.34394,20.8613,42.6318,5.90124,8.7522,22.7802,2.896,0.74296,5.66793,13.17562,21.77596,31.7844,41.02902,288.822,131.458,13.83989,16.23855,13.367308,21.301886,39.792187,105.599,21.0874,6.87349,1.855558,1.2137672,0.45328509,1.865169,3.024095,3.24674,2.455239,33.60134,57.011,49.532,303.137,4.7779803,9.6739283,42.8961,982.0,7.2037945,10.9129343,7.81254,9.37647,45.154,85.312,null,7.8773565,16.3850021,18.6489525,38.5583038,8.0109434,12.0717249,27.9481449,42.1516418,10.5016,21.40239,5.7293196,11.6092567,10.2184954,15.5741568,11.8681707,17.9801235,7.1316185,8.9193459,11.9016171,59.87756,5.714932,12.4417,18.16406,122.3874,267.291,9.4341505,138.317,2.15491,5.859944,8.13123,17.815815,15.7259,5.398763,9.605085,580.0,13.722341,242.4613,0.240104,0.342887,3.90512,7.340718,8.884924,1.54492875,3.57878087,0.355,13.485,27.402,7.053,9.522,5.955,12.04,26.444,51.538,9.77,20.09,8.726,12.883,8.306,12.513,282.5255,114.73635,191.2318,10.95416,22.3395,3.743208,10.423648,22.342989,54.32031,7.008151,8.719375,59.73667,91.93913,124.9144,210.60697,331.60059,6.24658,13.749,26.723,4.72674,1460.0,2.50806,820.3,11.5231,16.2385,2.58664,789.0,1.54168,4.60358,6.88705,12.8159,35.3331,5.28696,7.07142,10.3117,16.1457,27.4536,15.9654,179.612,5.4122,6.16486,13.5708,23.9802,43.8445,6.48163,21.2227,4.754,8.92507,8.041,11.776,15.09,22.804,27.50868,16.092,25.5169,13.78164,23.08933,22.951,42.882,36.855,49.412,23.654,50.447,31.884,48.648,17.324,33.006,35.736,54.414,24.806,44.347,5.487,8.291,10.416,13.084,34.921,71.312,17.849,26.136,42.994,88.505,2.42629,4.62332,0.66931,3000.0,2.46502,68.9584,17.833648,3.00516,1.72086123,66.262,40000.0,3.91405,null,null,null,null,2780.0,null,1970.0,null,null,null,null,677.8,6.958,5.118,121.71,null,3600.0,3300.0,3500.0,1825.0,5100.0,null,null,null,null,null,null,2.4855335,3.101278,1.2119189,4.0161,1.4324752,1.689868,3.9791,3.67724,730000.0,3.1606296,4.4264,2.1451,25.262,66.5419,98.2114,36525.0,0.09070629,1.420033,1.3371182,null,null,null,4.2,1.796,3.030065,1.30618581,3.553945,1.4822446,null,1170.0,2.5199449,2.152226,1.846835,1.33823187,1.62843142,3.361006,4.954658,8.158715,3.0927616,3.7224747,1.091423,4.353011,2.243752,3.7520656,3.1186009,3.7354417,0.94145299,0.78884,4.322482,3.5327313,2.9444256,2.34121242,3.764825,2.7566004,3.408821,3.922727,3.4059096,2.718659,1.2198669,4.3176782,3.161575,1.5373653,3.577469,6.871815,4.055259,3.052401,4.9816872,0.813475,2.4238039,3.1260876,1.43037,4.1591399,2.143634,2.7817387,1.9550959,1.7497798,3.6936411,4.465633,4.617101,2.838971,5.01718,7.919585,4.3050011,3.8559,4.411953,4.37809,1.5732918,2.3114243,4.086052,4.61442,2.9036747,2.2167421,2.484193,1.3600309,2.17517632,3.6623866,3.0678504,0.925542,null,3.352057,null,3.94150685,2.615864,3.1915239,4.1250828,4.187757],\"z\":[7.1,2.21,2.6,19.4,10.5,4.8,4.64,null,10.3,1.99,0.86,9.88,3.88,2.53,0.54,1.64,0.472,0.8,0.165,3.53,null,0.172,0.016,0.057,0.072,null,null,5.3,3.2,null,null,null,6.05,null,null,null,null,null,null,null,null,null,4.2,null,null,1.8,0.0036,null,1.55,null,7.6,8.78,1.85,null,null,2.8,null,null,1.7,null,null,1.04,3.9,20.6,0.6876,1.981,4.132,1.059,null,null,null,null,null,null,null,null,5.1,10.6,null,0.045,0.33,0.027,0.17,1.47,1.11,21.42,12.47,null,0.91,null,null,null,null,null,null,null,null,null,null,null,null,null,null,null,null,null,null,null,null,null,null,null,null,null,3.91,0.035,0.024,0.079,0.82,1.894,1.6,2.3,0.018,null,null,0.049,0.017,0.022,0.006,0.328,0.018,0.012,0.016,0.008,0.008,0.014,0.035,4.95,0.014,0.036,0.64,0.91,2.2756,0.7142,0.021,0.046,null,3.37,null,0.022,null,null,null,null,null,null,null,null,null,null,null,15.2,null,null,null,null,3.4,null,null,null,null,null,null,null,null,null,null,null,null,null,null,3.4,null,null,null,null,null,null,null,null,null,null,null,null,null,null,null,null,1.25,5.3,0.024,0.0186,3.1,6.1,4.9,0.48,1.6,0.229,1.56,0.8,0.0405,2.07,2.3,2.37,2.37,1.94,1.96,null,7.6,0.48,1.65,0.29,1.11,2.0,0.029,0.63,1.8,14.2,0.7,1.82,0.041,0.038,0.08,0.074,0.067,0.205,0.94,6.21,3.44,0.82,6.54,0.622,0.0788,2.3,1.92,14.0,0.0325,0.036,0.865,5.13,1.88,0.26,0.0696,4.4,14.3,4.6,null,2.7,1.37,0.0378,0.0422,1.07,0.0085,0.00755,0.0151,0.0379,0.0496,1.9,1.99,0.0322,0.06472,1.5,2.61,13.65,7.71,4.01,0.95,1.28,1.45,0.62,1.16,5.59,1.7,9.17,1.373,1.8,0.5,0.0363,0.0498,0.0519,1.3,0.33,3.04,0.79,9.1,null,0.61,0.683,0.624,10.35,2.3,3.366,0.0117,0.0187,0.0162,0.839,13.38,10.7,0.0961,0.0126,0.0208,0.0299,0.011,0.0164,0.0223,4.01,2.54,18.37,0.039,0.027,0.6,25.0,2.49,0.58,0.04,0.1872,0.6579,1.79,0.47,0.249,0.07167,0.35061,5.0,7.0,1.16,0.115,1.71,4.9,0.0413,0.0565,1.13,5.25,3.1548,7.4634,0.38,2.9,0.64,1.26,0.17,6.0,2.82,1.9,0.033,0.038,0.058,6.1,2.0,3.15,3.06,1.87,2.25,2.25,1.15,1.8,8.06,0.396,0.42,2.51,0.197,null,1.34,null,6.86,2.7,null,null,1.3,0.4,0.132,0.01133,1.5,0.92,7.0,1.78,0.22,1.78,8.44,0.057,3.86,0.37,0.0263,0.0318,null,1.2,0.9,0.68,4.0,0.0284,0.04,0.026,1.8,6.8,0.502,0.087,0.36,1.4,1.7,1.16,0.3,0.172,0.45,5.9,2.6,0.05,5.9,0.96,0.098,0.367,0.186,8.3,6.92,11.0,9.61,null,0.21,0.261,2.6,1.29,0.99,0.77,0.054,0.076,0.28,11.09,6.8,2.83,0.27,0.71,1.24,null,0.48,11.68,1.1,0.95,2.1,1.88,0.178,2.13,4.5,1.22,3.71,3.0,0.058,7.2,0.041,0.38,0.224,1.45,3.24,1.6,1.04,2.2,18.15,5.61,1.49,0.0351,0.1507,1.59,0.82,0.0292,0.0382,0.121,2.0,0.0166,0.0358,0.03,0.223,9.76,9.7,5.1,1.9,1.62,3.12,2.9,5.76,2.12,6.56,1.21,0.85,0.96,null,1.33,15.5,0.168,3.0,1.5,2.73,0.0193,0.947,5.02,2.24,2.58,0.85,0.82,9.71,0.75,0.013,10.57,0.12,1.8,1.13,1.9,2.1,0.73,null,1.814,null,null,14.4,0.77,2.29,0.48,2.7,0.36,3.53,1.7,8.02,18.1,0.23,2.88,4.04,0.67,1.83,2.6,2.7,7.8,0.61,null,1.49,0.15,7.03,0.08,0.95,null,1.6,3.3,0.0238,0.64,0.54,0.37,3.69,3.82,0.94,0.75,0.52,1.99,1.26,0.0316,null,5.93,1.502,0.057,1.9,3.1,0.72,0.05318,0.07552,2.5,3.7,3.0,6.9,2.58,0.79,1.85,0.895,17.4,2.44,null,4.05,0.054,1.68,0.266,1.37,2.2,null,null,0.45,9.9,null,1.23,null,0.45,2.3,4.5,0.0087,0.0097,0.101,0.246,0.017,0.33,1.26,2.1,0.65,1.39,2.6,13.0,0.21,10.39,null,0.06,11.1,1.06,1.45,3.09,1.9,7.75,0.71,1.08,6.575,6.9,5.3,2.54,0.0265,0.76,1.42,null,0.47,1.25,3.88,1.28,0.57,0.298,0.036,0.41,0.527,null,9.18,9.0,8.82,null,2.1,1.068,1.94,null,null,null,null,null,null,1.47,null,null,null,null,null,null,null,null,null,null,null,null,null,null,null,null,null,null,null,null,null,null,null,null,null,null,null,null,null,null,null,null,null,null,null,null,null,null,null,null,null,null,null,null,null,null,null,null,null,null,null,null,null,null,null,null,null,null,null,null,null,null,null,null,null,null,null,null,null,null,null,null,null,null,null,null,null,null,null,null,null,null,null,null,null,null,null,null,null,null,null,null,null,null,null,null,null,null,null,null,null,null,null,null,null,null,null,null,null,null,null,null,null,null,null,null,null,null,null,null,null,null,null,null,null,null,null,null,null,null,null,null,null,null,0.947,null,null,null,null,null,null,null,null,null,null,null,null,null,null,null,null,null,null,null,null,null,null,null,null,null,null,null,null,null,null,null,null,null,null,null,null,null,null,null,null,null,null,null,null,null,null,null,null,null,null,null,null,null,null,null,null,null,null,null,null,null,null,null,null,null,null,null,null,null,null,null,null,null,null,null,null,null,null,null,null,null,null,null,null,null,null,null,null,null,null,null,null,null,null,null,null,null,null,null,null,null,null,null,null,null,null,null,null,null,null,null,null,null,null,null,null,null,null,null,null,null,null,null,null,null,null,null,null,19.8,0.34,0.4,1.54,null,null,null,null,null,null,null,null,null,null,null,null,null,null,null,null,null,null,null,null,null,null,null,null,null,null,null,null,null,null,null,null,null,null,null,null,null,null,null,null,null,null,null,null,null,null,null,null,null,null,null,null,null,null,null,null,null,null,null,null,null,null,null,null,null,null,null,null,null,null,null,null,null,null,null,null,null,null,null,null,null,null,null,null,null,null,null,null,null,null,null,null,null,null,null,null,null,null,null,null,null,null,null,null,null,null,null,null,null,null,null,null,null,null,null,null,null,null],\"type\":\"scatter3d\"}],                        {\"template\":{\"data\":{\"histogram2dcontour\":[{\"type\":\"histogram2dcontour\",\"colorbar\":{\"outlinewidth\":0,\"ticks\":\"\"},\"colorscale\":[[0.0,\"#0d0887\"],[0.1111111111111111,\"#46039f\"],[0.2222222222222222,\"#7201a8\"],[0.3333333333333333,\"#9c179e\"],[0.4444444444444444,\"#bd3786\"],[0.5555555555555556,\"#d8576b\"],[0.6666666666666666,\"#ed7953\"],[0.7777777777777778,\"#fb9f3a\"],[0.8888888888888888,\"#fdca26\"],[1.0,\"#f0f921\"]]}],\"choropleth\":[{\"type\":\"choropleth\",\"colorbar\":{\"outlinewidth\":0,\"ticks\":\"\"}}],\"histogram2d\":[{\"type\":\"histogram2d\",\"colorbar\":{\"outlinewidth\":0,\"ticks\":\"\"},\"colorscale\":[[0.0,\"#0d0887\"],[0.1111111111111111,\"#46039f\"],[0.2222222222222222,\"#7201a8\"],[0.3333333333333333,\"#9c179e\"],[0.4444444444444444,\"#bd3786\"],[0.5555555555555556,\"#d8576b\"],[0.6666666666666666,\"#ed7953\"],[0.7777777777777778,\"#fb9f3a\"],[0.8888888888888888,\"#fdca26\"],[1.0,\"#f0f921\"]]}],\"heatmap\":[{\"type\":\"heatmap\",\"colorbar\":{\"outlinewidth\":0,\"ticks\":\"\"},\"colorscale\":[[0.0,\"#0d0887\"],[0.1111111111111111,\"#46039f\"],[0.2222222222222222,\"#7201a8\"],[0.3333333333333333,\"#9c179e\"],[0.4444444444444444,\"#bd3786\"],[0.5555555555555556,\"#d8576b\"],[0.6666666666666666,\"#ed7953\"],[0.7777777777777778,\"#fb9f3a\"],[0.8888888888888888,\"#fdca26\"],[1.0,\"#f0f921\"]]}],\"heatmapgl\":[{\"type\":\"heatmapgl\",\"colorbar\":{\"outlinewidth\":0,\"ticks\":\"\"},\"colorscale\":[[0.0,\"#0d0887\"],[0.1111111111111111,\"#46039f\"],[0.2222222222222222,\"#7201a8\"],[0.3333333333333333,\"#9c179e\"],[0.4444444444444444,\"#bd3786\"],[0.5555555555555556,\"#d8576b\"],[0.6666666666666666,\"#ed7953\"],[0.7777777777777778,\"#fb9f3a\"],[0.8888888888888888,\"#fdca26\"],[1.0,\"#f0f921\"]]}],\"contourcarpet\":[{\"type\":\"contourcarpet\",\"colorbar\":{\"outlinewidth\":0,\"ticks\":\"\"}}],\"contour\":[{\"type\":\"contour\",\"colorbar\":{\"outlinewidth\":0,\"ticks\":\"\"},\"colorscale\":[[0.0,\"#0d0887\"],[0.1111111111111111,\"#46039f\"],[0.2222222222222222,\"#7201a8\"],[0.3333333333333333,\"#9c179e\"],[0.4444444444444444,\"#bd3786\"],[0.5555555555555556,\"#d8576b\"],[0.6666666666666666,\"#ed7953\"],[0.7777777777777778,\"#fb9f3a\"],[0.8888888888888888,\"#fdca26\"],[1.0,\"#f0f921\"]]}],\"surface\":[{\"type\":\"surface\",\"colorbar\":{\"outlinewidth\":0,\"ticks\":\"\"},\"colorscale\":[[0.0,\"#0d0887\"],[0.1111111111111111,\"#46039f\"],[0.2222222222222222,\"#7201a8\"],[0.3333333333333333,\"#9c179e\"],[0.4444444444444444,\"#bd3786\"],[0.5555555555555556,\"#d8576b\"],[0.6666666666666666,\"#ed7953\"],[0.7777777777777778,\"#fb9f3a\"],[0.8888888888888888,\"#fdca26\"],[1.0,\"#f0f921\"]]}],\"mesh3d\":[{\"type\":\"mesh3d\",\"colorbar\":{\"outlinewidth\":0,\"ticks\":\"\"}}],\"scatter\":[{\"fillpattern\":{\"fillmode\":\"overlay\",\"size\":10,\"solidity\":0.2},\"type\":\"scatter\"}],\"parcoords\":[{\"type\":\"parcoords\",\"line\":{\"colorbar\":{\"outlinewidth\":0,\"ticks\":\"\"}}}],\"scatterpolargl\":[{\"type\":\"scatterpolargl\",\"marker\":{\"colorbar\":{\"outlinewidth\":0,\"ticks\":\"\"}}}],\"bar\":[{\"error_x\":{\"color\":\"#2a3f5f\"},\"error_y\":{\"color\":\"#2a3f5f\"},\"marker\":{\"line\":{\"color\":\"#E5ECF6\",\"width\":0.5},\"pattern\":{\"fillmode\":\"overlay\",\"size\":10,\"solidity\":0.2}},\"type\":\"bar\"}],\"scattergeo\":[{\"type\":\"scattergeo\",\"marker\":{\"colorbar\":{\"outlinewidth\":0,\"ticks\":\"\"}}}],\"scatterpolar\":[{\"type\":\"scatterpolar\",\"marker\":{\"colorbar\":{\"outlinewidth\":0,\"ticks\":\"\"}}}],\"histogram\":[{\"marker\":{\"pattern\":{\"fillmode\":\"overlay\",\"size\":10,\"solidity\":0.2}},\"type\":\"histogram\"}],\"scattergl\":[{\"type\":\"scattergl\",\"marker\":{\"colorbar\":{\"outlinewidth\":0,\"ticks\":\"\"}}}],\"scatter3d\":[{\"type\":\"scatter3d\",\"line\":{\"colorbar\":{\"outlinewidth\":0,\"ticks\":\"\"}},\"marker\":{\"colorbar\":{\"outlinewidth\":0,\"ticks\":\"\"}}}],\"scattermapbox\":[{\"type\":\"scattermapbox\",\"marker\":{\"colorbar\":{\"outlinewidth\":0,\"ticks\":\"\"}}}],\"scatterternary\":[{\"type\":\"scatterternary\",\"marker\":{\"colorbar\":{\"outlinewidth\":0,\"ticks\":\"\"}}}],\"scattercarpet\":[{\"type\":\"scattercarpet\",\"marker\":{\"colorbar\":{\"outlinewidth\":0,\"ticks\":\"\"}}}],\"carpet\":[{\"aaxis\":{\"endlinecolor\":\"#2a3f5f\",\"gridcolor\":\"white\",\"linecolor\":\"white\",\"minorgridcolor\":\"white\",\"startlinecolor\":\"#2a3f5f\"},\"baxis\":{\"endlinecolor\":\"#2a3f5f\",\"gridcolor\":\"white\",\"linecolor\":\"white\",\"minorgridcolor\":\"white\",\"startlinecolor\":\"#2a3f5f\"},\"type\":\"carpet\"}],\"table\":[{\"cells\":{\"fill\":{\"color\":\"#EBF0F8\"},\"line\":{\"color\":\"white\"}},\"header\":{\"fill\":{\"color\":\"#C8D4E3\"},\"line\":{\"color\":\"white\"}},\"type\":\"table\"}],\"barpolar\":[{\"marker\":{\"line\":{\"color\":\"#E5ECF6\",\"width\":0.5},\"pattern\":{\"fillmode\":\"overlay\",\"size\":10,\"solidity\":0.2}},\"type\":\"barpolar\"}],\"pie\":[{\"automargin\":true,\"type\":\"pie\"}]},\"layout\":{\"autotypenumbers\":\"strict\",\"colorway\":[\"#636efa\",\"#EF553B\",\"#00cc96\",\"#ab63fa\",\"#FFA15A\",\"#19d3f3\",\"#FF6692\",\"#B6E880\",\"#FF97FF\",\"#FECB52\"],\"font\":{\"color\":\"#2a3f5f\"},\"hovermode\":\"closest\",\"hoverlabel\":{\"align\":\"left\"},\"paper_bgcolor\":\"white\",\"plot_bgcolor\":\"#E5ECF6\",\"polar\":{\"bgcolor\":\"#E5ECF6\",\"angularaxis\":{\"gridcolor\":\"white\",\"linecolor\":\"white\",\"ticks\":\"\"},\"radialaxis\":{\"gridcolor\":\"white\",\"linecolor\":\"white\",\"ticks\":\"\"}},\"ternary\":{\"bgcolor\":\"#E5ECF6\",\"aaxis\":{\"gridcolor\":\"white\",\"linecolor\":\"white\",\"ticks\":\"\"},\"baxis\":{\"gridcolor\":\"white\",\"linecolor\":\"white\",\"ticks\":\"\"},\"caxis\":{\"gridcolor\":\"white\",\"linecolor\":\"white\",\"ticks\":\"\"}},\"coloraxis\":{\"colorbar\":{\"outlinewidth\":0,\"ticks\":\"\"}},\"colorscale\":{\"sequential\":[[0.0,\"#0d0887\"],[0.1111111111111111,\"#46039f\"],[0.2222222222222222,\"#7201a8\"],[0.3333333333333333,\"#9c179e\"],[0.4444444444444444,\"#bd3786\"],[0.5555555555555556,\"#d8576b\"],[0.6666666666666666,\"#ed7953\"],[0.7777777777777778,\"#fb9f3a\"],[0.8888888888888888,\"#fdca26\"],[1.0,\"#f0f921\"]],\"sequentialminus\":[[0.0,\"#0d0887\"],[0.1111111111111111,\"#46039f\"],[0.2222222222222222,\"#7201a8\"],[0.3333333333333333,\"#9c179e\"],[0.4444444444444444,\"#bd3786\"],[0.5555555555555556,\"#d8576b\"],[0.6666666666666666,\"#ed7953\"],[0.7777777777777778,\"#fb9f3a\"],[0.8888888888888888,\"#fdca26\"],[1.0,\"#f0f921\"]],\"diverging\":[[0,\"#8e0152\"],[0.1,\"#c51b7d\"],[0.2,\"#de77ae\"],[0.3,\"#f1b6da\"],[0.4,\"#fde0ef\"],[0.5,\"#f7f7f7\"],[0.6,\"#e6f5d0\"],[0.7,\"#b8e186\"],[0.8,\"#7fbc41\"],[0.9,\"#4d9221\"],[1,\"#276419\"]]},\"xaxis\":{\"gridcolor\":\"white\",\"linecolor\":\"white\",\"ticks\":\"\",\"title\":{\"standoff\":15},\"zerolinecolor\":\"white\",\"automargin\":true,\"zerolinewidth\":2},\"yaxis\":{\"gridcolor\":\"white\",\"linecolor\":\"white\",\"ticks\":\"\",\"title\":{\"standoff\":15},\"zerolinecolor\":\"white\",\"automargin\":true,\"zerolinewidth\":2},\"scene\":{\"xaxis\":{\"backgroundcolor\":\"#E5ECF6\",\"gridcolor\":\"white\",\"linecolor\":\"white\",\"showbackground\":true,\"ticks\":\"\",\"zerolinecolor\":\"white\",\"gridwidth\":2},\"yaxis\":{\"backgroundcolor\":\"#E5ECF6\",\"gridcolor\":\"white\",\"linecolor\":\"white\",\"showbackground\":true,\"ticks\":\"\",\"zerolinecolor\":\"white\",\"gridwidth\":2},\"zaxis\":{\"backgroundcolor\":\"#E5ECF6\",\"gridcolor\":\"white\",\"linecolor\":\"white\",\"showbackground\":true,\"ticks\":\"\",\"zerolinecolor\":\"white\",\"gridwidth\":2}},\"shapedefaults\":{\"line\":{\"color\":\"#2a3f5f\"}},\"annotationdefaults\":{\"arrowcolor\":\"#2a3f5f\",\"arrowhead\":0,\"arrowwidth\":1},\"geo\":{\"bgcolor\":\"white\",\"landcolor\":\"#E5ECF6\",\"subunitcolor\":\"white\",\"showland\":true,\"showlakes\":true,\"lakecolor\":\"white\"},\"title\":{\"x\":0.05},\"mapbox\":{\"style\":\"light\"}}}},                        {\"responsive\": true}                    ).then(function(){\n",
              "                            \n",
              "var gd = document.getElementById('4a368a33-d745-492c-a5d7-09b104ab4155');\n",
              "var x = new MutationObserver(function (mutations, observer) {{\n",
              "        var display = window.getComputedStyle(gd).display;\n",
              "        if (!display || display === 'none') {{\n",
              "            console.log([gd, 'removed!']);\n",
              "            Plotly.purge(gd);\n",
              "            observer.disconnect();\n",
              "        }}\n",
              "}});\n",
              "\n",
              "// Listen for the removal of the full notebook cells\n",
              "var notebookContainer = gd.closest('#notebook-container');\n",
              "if (notebookContainer) {{\n",
              "    x.observe(notebookContainer, {childList: true});\n",
              "}}\n",
              "\n",
              "// Listen for the clearing of the current output cell\n",
              "var outputEl = gd.closest('.output');\n",
              "if (outputEl) {{\n",
              "    x.observe(outputEl, {childList: true});\n",
              "}}\n",
              "\n",
              "                        })                };                            </script>        </div>\n",
              "</body>\n",
              "</html>"
            ]
          },
          "metadata": {}
        }
      ]
    },
    {
      "cell_type": "code",
      "source": [],
      "metadata": {
        "id": "GhHB-edNjPbj"
      },
      "execution_count": null,
      "outputs": []
    }
  ]
}